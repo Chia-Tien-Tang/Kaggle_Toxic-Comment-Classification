{
  "nbformat": 4,
  "nbformat_minor": 0,
  "metadata": {
    "colab": {
      "provenance": [],
      "gpuType": "T4",
      "collapsed_sections": [
        "TikNLCpahx4H",
        "E_UBsz-QhxJI",
        "VF2t9ioLCT5B",
        "NE3YHQOyhhN3",
        "-OFH3qBjcYkU",
        "AE-BgNRDbipS",
        "xd_wAIXDZYcl",
        "Y_vTrxVSZcm1",
        "nkptPRgcfbPp"
      ]
    },
    "kernelspec": {
      "name": "python3",
      "display_name": "Python 3"
    },
    "language_info": {
      "name": "python"
    },
    "accelerator": "GPU"
  },
  "cells": [
    {
      "cell_type": "markdown",
      "source": [
        "##**Library Import**"
      ],
      "metadata": {
        "id": "TikNLCpahx4H"
      }
    },
    {
      "cell_type": "code",
      "source": [
        "from google.colab import drive"
      ],
      "metadata": {
        "id": "sMcsrLNS1FNc"
      },
      "execution_count": 1,
      "outputs": []
    },
    {
      "cell_type": "code",
      "source": [
        "drive = drive.mount('/content/drive')\n",
        "data_dir = 'drive/MyDrive/kaggle_data'"
      ],
      "metadata": {
        "colab": {
          "base_uri": "https://localhost:8080/"
        },
        "id": "kh2-7b0y1Ily",
        "outputId": "f4d5497b-da19-4fcd-87cb-0dbc04815e56"
      },
      "execution_count": 2,
      "outputs": [
        {
          "output_type": "stream",
          "name": "stdout",
          "text": [
            "Mounted at /content/drive\n"
          ]
        }
      ]
    },
    {
      "cell_type": "code",
      "source": [
        "import pandas as pd\n",
        "import torch\n",
        "import torch.nn as nn\n",
        "import torch.nn.functional as F\n",
        "import torch.optim as optim\n",
        "from torch.utils.data import Dataset, DataLoader\n",
        "from sklearn.model_selection import train_test_split\n",
        "from sklearn.metrics import accuracy_score\n",
        "import numpy as np\n",
        "import re\n",
        "import nltk\n",
        "nltk.download('punkt')\n",
        "from nltk.tokenize import word_tokenize"
      ],
      "metadata": {
        "colab": {
          "base_uri": "https://localhost:8080/"
        },
        "id": "O7rZL8X41Lsv",
        "outputId": "72f820ac-6c46-4135-fb22-6a26292e23f3"
      },
      "execution_count": 3,
      "outputs": [
        {
          "output_type": "stream",
          "name": "stderr",
          "text": [
            "[nltk_data] Downloading package punkt to /root/nltk_data...\n",
            "[nltk_data]   Unzipping tokenizers/punkt.zip.\n"
          ]
        }
      ]
    },
    {
      "cell_type": "markdown",
      "source": [
        "##**GPU & Seed Setting**"
      ],
      "metadata": {
        "id": "E_UBsz-QhxJI"
      }
    },
    {
      "cell_type": "code",
      "execution_count": 4,
      "metadata": {
        "id": "ELZMTpZ51BYe"
      },
      "outputs": [],
      "source": [
        "device = torch.device('cuda' if torch.cuda.is_available() else 'cpu')"
      ]
    },
    {
      "cell_type": "code",
      "source": [
        "torch.manual_seed(0)"
      ],
      "metadata": {
        "colab": {
          "base_uri": "https://localhost:8080/"
        },
        "id": "JP0Qq5091Dht",
        "outputId": "dc102b4f-9feb-45f5-fa21-85c2250aa9df"
      },
      "execution_count": 5,
      "outputs": [
        {
          "output_type": "execute_result",
          "data": {
            "text/plain": [
              "<torch._C.Generator at 0x7fd9d6edba30>"
            ]
          },
          "metadata": {},
          "execution_count": 5
        }
      ]
    },
    {
      "cell_type": "markdown",
      "source": [],
      "metadata": {
        "id": "BsjdqynwiAhQ"
      }
    },
    {
      "cell_type": "code",
      "source": [
        "# Load data\n",
        "train_x = pd.read_csv(f'{data_dir}/train_x.csv')\n",
        "train_y = pd.read_csv(f'{data_dir}/train_y.csv')\n",
        "val_x = pd.read_csv(f'{data_dir}/val_x.csv')\n",
        "val_y = pd.read_csv(f'{data_dir}/val_y.csv')"
      ],
      "metadata": {
        "id": "tXXIC8-a1VHM"
      },
      "execution_count": 6,
      "outputs": []
    },
    {
      "cell_type": "markdown",
      "source": [
        "##**EDA**"
      ],
      "metadata": {
        "id": "VF2t9ioLCT5B"
      }
    },
    {
      "cell_type": "markdown",
      "source": [
        "**Dataset Structure**  \n",
        "The dataset includes columns representing 8 demographic groups and various types of toxicity indicators:  \n",
        "\n",
        "- Demographic Groups: male, female, LGBTQ, christian, muslim, other_religions, black, white\n",
        "- Toxicity Indicators: identity_any, severe_toxicity, obscene, threat, insult, identity_attack, sexual_explicit\n",
        "- Target Variable: y (indicating the toxicity level)"
      ],
      "metadata": {
        "id": "HqT6pS4Ke6Ks"
      }
    },
    {
      "cell_type": "code",
      "source": [
        "import seaborn as sns\n",
        "import matplotlib.pyplot as plt\n",
        "\n",
        "sns.countplot(x='y', data=train_y)\n",
        "plt.title('Distribution of Target Variable (y)')\n",
        "plt.show()"
      ],
      "metadata": {
        "colab": {
          "base_uri": "https://localhost:8080/",
          "height": 472
        },
        "id": "77D__GYlA4vz",
        "outputId": "3507719d-86a2-4c5e-b672-4ae409c00cbd"
      },
      "execution_count": null,
      "outputs": [
        {
          "output_type": "display_data",
          "data": {
            "text/plain": [
              "<Figure size 640x480 with 1 Axes>"
            ],
            "image/png": "[encoded data removed]"
          },
          "metadata": {}
        }
      ]
    },
    {
      "cell_type": "markdown",
      "source": [
        "From the chart, it is evident that there is a significant class imbalance, with non-toxic comments (label 0) greatly outnumbering the toxic comments (label 1). We might need to do resampling later."
      ],
      "metadata": {
        "id": "Yr9MbpGLfX0w"
      }
    },
    {
      "cell_type": "code",
      "source": [
        "# Specify the demographic columns\n",
        "demographic_columns = ['male', 'female', 'LGBTQ', 'christian', 'muslim', 'other_religions', 'black', 'white']\n",
        "\n",
        "# Count the occurrences where each column is 1, separated by the 'y' value\n",
        "counts_y_0 = train_y[train_y['y'] == 0][demographic_columns].sum()\n",
        "counts_y_1 = train_y[train_y['y'] == 1][demographic_columns].sum()\n",
        "\n",
        "# Set the positions and width for the bars\n",
        "positions = range(len(demographic_columns))\n",
        "width = 0.4\n",
        "\n",
        "# Plotting both counts in the same plot, but with an offset for the x position\n",
        "plt.figure(figsize=(15, 8))\n",
        "plt.bar(positions, counts_y_0, width, alpha=0.7, label='y=0')\n",
        "plt.bar([p + width for p in positions], counts_y_1, width, alpha=0.7, label='y=1')\n",
        "\n",
        "# Adding labels, title, and legend\n",
        "plt.xlabel('Demographic Groups')\n",
        "plt.ylabel('Counts')\n",
        "plt.title('Counts in Each Demographic Group Separated by y')\n",
        "plt.xticks([p + width / 2 for p in positions], demographic_columns, rotation=90)\n",
        "plt.legend()\n",
        "plt.tight_layout()\n",
        "plt.show()"
      ],
      "metadata": {
        "colab": {
          "base_uri": "https://localhost:8080/",
          "height": 659
        },
        "id": "7YLb3wYSCe-1",
        "outputId": "9868ffe6-5017-421b-c070-0ffe6b67f68c"
      },
      "execution_count": null,
      "outputs": [
        {
          "output_type": "display_data",
          "data": {
            "text/plain": [
              "<Figure size 1500x800 with 1 Axes>"
            ],
            "image/png": "[encoded data removed]"
          },
          "metadata": {}
        }
      ]
    },
    {
      "cell_type": "code",
      "source": [
        "# Calculate the sums of each demographic group by the classes of 'y'\n",
        "distribution = train_y[demographic_columns].groupby(train_y['y']).sum()\n",
        "\n",
        "# This code snippet will generate two pie charts, one for each class of 'y'\n",
        "for value in train_y['y'].unique():\n",
        "    plt.figure(figsize=(8, 4))\n",
        "    plt.pie(distribution.loc[value], labels=distribution.columns, autopct='%1.1f%%', startangle=140)\n",
        "    plt.title(f'Distribution of demographics for target variable \"y\" = {value}')\n",
        "    plt.show()"
      ],
      "metadata": {
        "colab": {
          "base_uri": "https://localhost:8080/",
          "height": 717
        },
        "id": "1M5I9qa3KEJF",
        "outputId": "e8d5b6d7-0cc2-4fd7-a8c5-cab99bfd6428"
      },
      "execution_count": null,
      "outputs": [
        {
          "output_type": "display_data",
          "data": {
            "text/plain": [
              "<Figure size 800x400 with 1 Axes>"
            ],
            "image/png": "[encoded data removed]"
          },
          "metadata": {}
        },
        {
          "output_type": "display_data",
          "data": {
            "text/plain": [
              "<Figure size 800x400 with 1 Axes>"
            ],
            "image/png": "[encoded data removed]"
          },
          "metadata": {}
        }
      ]
    },
    {
      "cell_type": "markdown",
      "source": [
        "1. The male and female groups show a large number of non-toxic comments compared to toxic comments, with male having slightly more non-toxic comments than female.  \n",
        "2. The LGBTQ group has a lower count of non-toxic comments relative to the male and female groups but still far more than its toxic counterparts.  \n",
        "3. Christian is the demographic with the highest count of non-toxic comments and a relatively small proportion of toxic comments.  \n",
        "4. The Muslim group shows a smaller number of non-toxic comments than the Christian group but more than the LGBTQ group, with toxic comments also being a small proportion.\n",
        "5. Other_religions shows fewer non-toxic comments than Muslim and a similar proportion of toxic comments.  \n",
        "6. The black group has a lower count of non-toxic comments compared to other_religions, with a similar proportion of toxic comments.  \n",
        "7. The white group shows a large number of non-toxic comments, comparable to the Christian group, and a similar proportion of toxic comments."
      ],
      "metadata": {
        "id": "eyQ7BSZKgb_a"
      }
    },
    {
      "cell_type": "markdown",
      "source": [
        "##**Research**"
      ],
      "metadata": {
        "id": "ts35TE2Uigdr"
      }
    },
    {
      "cell_type": "markdown",
      "source": [
        "First, we tried to look into Baseline Model Performance.  \n",
        "  \n",
        "[Baseline Model]\n",
        " - *Training WGA: 0.709*\n",
        " - *Test WGA: 0.730*\n",
        "\n",
        "So we started from improving Baseline Model by the following improvement to learn more complex patterns in the data:  \n",
        "\n",
        "```\n",
        "class EnhancedMLPClassifier(nn.Module):\n",
        "    def __init__(self, input_size, hidden_dim):\n",
        "        super(EnhancedMLPClassifier, self).__init__()\n",
        "        self.fc1 = nn.Linear(input_size, hidden_dim)\n",
        "        self.bn1 = nn.BatchNorm1d(hidden_dim)\n",
        "        self.fc2 = nn.Linear(hidden_dim, hidden_dim // 2)\n",
        "        self.bn2 = nn.BatchNorm1d(hidden_dim // 2)\n",
        "        self.fc3 = nn.Linear(hidden_dim // 2, 1)\n",
        "\n",
        "    def forward(self, x):\n",
        "        x = x.view(x.size(0), -1)\n",
        "        x = F.relu(self.bn1(self.fc1(x)))\n",
        "        x = F.relu(self.bn2(self.fc2(x)))\n",
        "        x = torch.sigmoid(self.fc3(x))\n",
        "        return x\n",
        "```\n",
        "\n",
        "1. Additional Hidden Layer & Dimensionality Reduction: Introduce an additional hidden layer (self.fc2) that reduces the dimensionality from hidden_dim to hidden_dim // 2 to add complexity that can potentially capture more abstract representations of the input data.\n",
        "\n",
        "2. Batch Normalization: It incorporates batch normalization layers (self.bn1 and self.bn2) after each fully connected layer except the last to improve the stability and speed of the network's training process.\n",
        "\n",
        "[Enhanced Baseline Model]\n",
        " - *Training WGA: 0.741*\n",
        " - *Test WGA: 0.765*  \n",
        "\n",
        "But since then, we couldn't improve the model performance any better by just adding more complexity into the architecture.\n",
        "\n",
        "***\n",
        "\n",
        "Then we read and decided to use 3 essaies to develope better model implementation:\n",
        " - A Source-Criticism Debiasing Method for GloVe Embeddings by Hope McGovern\n",
        " - Deep learning for religious toxic content\n",
        "classification by Ahmed Abbasi, Abdul Rehman Javed, Farkhund Iqbal, Natalia Kryvinska & Zunera Jalil1\n",
        " - Retracted: An Automated Toxicity Classification on Social Media Using LSTM and Word Embedding by Hindawi\n",
        "\n",
        "The retracted paper \"An Automated Toxicity Classification on Social Media Using LSTM and Word Embedding\" had proposed using LSTM models combined with GloVe word embeddings to improve the accuracy and F1-score in classifying toxic comments on social media.\n",
        "  \n",
        "Despite the retraction, the idea of switching to models that use embeddings like GloVe with LSTM, GRU, or CNN is typically because these models can capture the sequential and contextual nuances of language better than simpler baseline models.\n",
        "  \n",
        "LSTM and GRU, in particular, are adept at handling sequences like sentences, and word embeddings provide a dense, meaningful representation of words that can capture semantic similarities. This combination can lead to better performance in tasks like toxicity classification where the context of words is crucial.  "
      ],
      "metadata": {
        "id": "3OhFX5fGiruJ"
      }
    },
    {
      "cell_type": "markdown",
      "source": [
        "##**Data Preprocessing**  \n",
        "Tokenize\n",
        "***"
      ],
      "metadata": {
        "id": "NE3YHQOyhhN3"
      }
    },
    {
      "cell_type": "code",
      "source": [
        "# Preprocess text data\n",
        "def preprocess_text(text):\n",
        "    text = text.lower()\n",
        "    text = re.sub(r'\\W+', ' ', text)\n",
        "    return text"
      ],
      "metadata": {
        "id": "YaoOk26C1ruA"
      },
      "execution_count": 7,
      "outputs": []
    },
    {
      "cell_type": "code",
      "source": [
        "train_x['string'] = train_x['string'].apply(preprocess_text)\n",
        "val_x['string'] = val_x['string'].apply(preprocess_text)"
      ],
      "metadata": {
        "id": "twGK412T1Xvr"
      },
      "execution_count": 8,
      "outputs": []
    },
    {
      "cell_type": "code",
      "source": [
        "# Tokenize\n",
        "train_x['tokens'] = train_x['string'].apply(word_tokenize)\n",
        "val_x['tokens'] = val_x['string'].apply(word_tokenize)"
      ],
      "metadata": {
        "id": "ZUxKCHF_140j"
      },
      "execution_count": 9,
      "outputs": []
    },
    {
      "cell_type": "markdown",
      "source": [
        "Creating Glove Embedding Matrix\n",
        "***\n",
        "The GloVe embeddings file glove.840B.300d.txt is derived from the Common Crawl dataset, which contains 840 billion tokens and a vocabulary of 2.2 million words. The embeddings are cased, preserving the distinction between uppercase and lowercase letters, and each word is represented by a 300-dimensional vector. This extensive collection of word vectors is beneficial for a wide range of natural language processing tasks, providing rich, pre-trained word representations that capture semantic and syntactic word similarities."
      ],
      "metadata": {
        "id": "QwmJshSSic-K"
      }
    },
    {
      "cell_type": "code",
      "source": [
        "# Load GloVe embeddings\n",
        "def load_glove_embeddings(path, word_index, embedding_dim):\n",
        "    vocab_size = len(word_index) + 1\n",
        "    embedding_matrix = np.zeros((vocab_size, embedding_dim))\n",
        "    with open(path, encoding='utf8') as f:\n",
        "        for line in f:\n",
        "            values = line.split()\n",
        "            word = values[0]\n",
        "            if word in word_index:\n",
        "                try:\n",
        "                    vector = np.asarray(values[1:], dtype='float32')\n",
        "                    embedding_matrix[word_index[word]] = vector[:embedding_dim]\n",
        "                except ValueError:\n",
        "                    continue  # Skip lines that don't have the correct format\n",
        "    return embedding_matrix"
      ],
      "metadata": {
        "id": "rJO7QK-U17qy"
      },
      "execution_count": 10,
      "outputs": []
    },
    {
      "cell_type": "code",
      "source": [
        "word_index = {word: idx + 1 for idx, word in enumerate(set([w for words in train_x['tokens'] for w in words]))}\n",
        "glove_embeddings = load_glove_embeddings(f'drive/MyDrive//glove.840B.300d.txt', word_index, 300)"
      ],
      "metadata": {
        "id": "2MwB3Lt818Yy"
      },
      "execution_count": 11,
      "outputs": []
    },
    {
      "cell_type": "markdown",
      "source": [
        "TextDataset Class & Tokens to Indices\n",
        "***"
      ],
      "metadata": {
        "id": "gd0cDqCMpWI0"
      }
    },
    {
      "cell_type": "code",
      "source": [
        "class TextDataset(Dataset):\n",
        "    def __init__(self, texts, labels):\n",
        "        self.texts = [torch.tensor(text) for text in texts]  # Convert to tensor here\n",
        "        self.labels = torch.tensor(labels)\n",
        "\n",
        "    def __len__(self):\n",
        "        return len(self.texts)\n",
        "\n",
        "    def __getitem__(self, idx):\n",
        "        return self.texts[idx], self.labels[idx]"
      ],
      "metadata": {
        "id": "h_5f_C3_2Vk9"
      },
      "execution_count": 12,
      "outputs": []
    },
    {
      "cell_type": "code",
      "source": [
        "def tokens_to_indices(tokens, word_index):\n",
        "    return [word_index.get(word, 0) for word in tokens]"
      ],
      "metadata": {
        "id": "Xk0YShlwDB5Y"
      },
      "execution_count": 13,
      "outputs": []
    },
    {
      "cell_type": "code",
      "source": [
        "train_x['indices'] = train_x['tokens'].apply(lambda tokens: tokens_to_indices(tokens, word_index))\n",
        "val_x['indices'] = val_x['tokens'].apply(lambda tokens: tokens_to_indices(tokens, word_index))"
      ],
      "metadata": {
        "id": "Aaef1TGp2lTJ"
      },
      "execution_count": 14,
      "outputs": []
    },
    {
      "cell_type": "code",
      "source": [
        "train_x.head()"
      ],
      "metadata": {
        "colab": {
          "base_uri": "https://localhost:8080/",
          "height": 206
        },
        "id": "M-fGas-a4bCB",
        "outputId": "10ba878b-a6b9-4a59-cfa7-2465db037c50"
      },
      "execution_count": null,
      "outputs": [
        {
          "output_type": "execute_result",
          "data": {
            "text/plain": [
              "   index                                             string  \\\n",
              "0      0                               even up here blacks    \n",
              "1      1  blame men there s always an excuse to blame me...   \n",
              "2      2  you have no business making any comments on th...   \n",
              "3      3   let s get the black folks and the white folks...   \n",
              "4      4  i guess the issue is people not willing to put...   \n",
              "\n",
              "                                              tokens  \\\n",
              "0                           [even, up, here, blacks]   \n",
              "1  [blame, men, there, s, always, an, excuse, to,...   \n",
              "2  [you, have, no, business, making, any, comment...   \n",
              "3  [let, s, get, the, black, folks, and, the, whi...   \n",
              "4  [i, guess, the, issue, is, people, not, willin...   \n",
              "\n",
              "                                             indices  \n",
              "0                     [16243, 107154, 119106, 42349]  \n",
              "1  [66282, 13846, 93675, 72563, 81658, 123010, 37...  \n",
              "2  [5166, 87120, 76402, 8171, 117445, 75041, 1077...  \n",
              "3  [60132, 72563, 41174, 86242, 85658, 17497, 744...  \n",
              "4  [62857, 89188, 86242, 40684, 114114, 55297, 88...  "
            ],
            "text/html": [
              "\n",
              "  <div id=\"df-59b74a75-08aa-4cd4-91ac-6fbdbe74d309\" class=\"colab-df-container\">\n",
              "    <div>\n",
              "<style scoped>\n",
              "    .dataframe tbody tr th:only-of-type {\n",
              "        vertical-align: middle;\n",
              "    }\n",
              "\n",
              "    .dataframe tbody tr th {\n",
              "        vertical-align: top;\n",
              "    }\n",
              "\n",
              "    .dataframe thead th {\n",
              "        text-align: right;\n",
              "    }\n",
              "</style>\n",
              "<table border=\"1\" class=\"dataframe\">\n",
              "  <thead>\n",
              "    <tr style=\"text-align: right;\">\n",
              "      <th></th>\n",
              "      <th>index</th>\n",
              "      <th>string</th>\n",
              "      <th>tokens</th>\n",
              "      <th>indices</th>\n",
              "    </tr>\n",
              "  </thead>\n",
              "  <tbody>\n",
              "    <tr>\n",
              "      <th>0</th>\n",
              "      <td>0</td>\n",
              "      <td>even up here blacks</td>\n",
              "      <td>[even, up, here, blacks]</td>\n",
              "      <td>[16243, 107154, 119106, 42349]</td>\n",
              "    </tr>\n",
              "    <tr>\n",
              "      <th>1</th>\n",
              "      <td>1</td>\n",
              "      <td>blame men there s always an excuse to blame me...</td>\n",
              "      <td>[blame, men, there, s, always, an, excuse, to,...</td>\n",
              "      <td>[66282, 13846, 93675, 72563, 81658, 123010, 37...</td>\n",
              "    </tr>\n",
              "    <tr>\n",
              "      <th>2</th>\n",
              "      <td>2</td>\n",
              "      <td>you have no business making any comments on th...</td>\n",
              "      <td>[you, have, no, business, making, any, comment...</td>\n",
              "      <td>[5166, 87120, 76402, 8171, 117445, 75041, 1077...</td>\n",
              "    </tr>\n",
              "    <tr>\n",
              "      <th>3</th>\n",
              "      <td>3</td>\n",
              "      <td>let s get the black folks and the white folks...</td>\n",
              "      <td>[let, s, get, the, black, folks, and, the, whi...</td>\n",
              "      <td>[60132, 72563, 41174, 86242, 85658, 17497, 744...</td>\n",
              "    </tr>\n",
              "    <tr>\n",
              "      <th>4</th>\n",
              "      <td>4</td>\n",
              "      <td>i guess the issue is people not willing to put...</td>\n",
              "      <td>[i, guess, the, issue, is, people, not, willin...</td>\n",
              "      <td>[62857, 89188, 86242, 40684, 114114, 55297, 88...</td>\n",
              "    </tr>\n",
              "  </tbody>\n",
              "</table>\n",
              "</div>\n",
              "    <div class=\"colab-df-buttons\">\n",
              "\n",
              "  <div class=\"colab-df-container\">\n",
              "    <button class=\"colab-df-convert\" onclick=\"convertToInteractive('df-59b74a75-08aa-4cd4-91ac-6fbdbe74d309')\"\n",
              "            title=\"Convert this dataframe to an interactive table.\"\n",
              "            style=\"display:none;\">\n",
              "\n",
              "  <svg xmlns=\"http://www.w3.org/2000/svg\" height=\"24px\" viewBox=\"0 -960 960 960\">\n",
              "    <path d=\"M120-120v-720h720v720H120Zm60-500h600v-160H180v160Zm220 220h160v-160H400v160Zm0 220h160v-160H400v160ZM180-400h160v-160H180v160Zm440 0h160v-160H620v160ZM180-180h160v-160H180v160Zm440 0h160v-160H620v160Z\"/>\n",
              "  </svg>\n",
              "    </button>\n",
              "\n",
              "  <style>\n",
              "    .colab-df-container {\n",
              "      display:flex;\n",
              "      gap: 12px;\n",
              "    }\n",
              "\n",
              "    .colab-df-convert {\n",
              "      background-color: #E8F0FE;\n",
              "      border: none;\n",
              "      border-radius: 50%;\n",
              "      cursor: pointer;\n",
              "      display: none;\n",
              "      fill: #1967D2;\n",
              "      height: 32px;\n",
              "      padding: 0 0 0 0;\n",
              "      width: 32px;\n",
              "    }\n",
              "\n",
              "    .colab-df-convert:hover {\n",
              "      background-color: #E2EBFA;\n",
              "      box-shadow: 0px 1px 2px rgba(60, 64, 67, 0.3), 0px 1px 3px 1px rgba(60, 64, 67, 0.15);\n",
              "      fill: #174EA6;\n",
              "    }\n",
              "\n",
              "    .colab-df-buttons div {\n",
              "      margin-bottom: 4px;\n",
              "    }\n",
              "\n",
              "    [theme=dark] .colab-df-convert {\n",
              "      background-color: #3B4455;\n",
              "      fill: #D2E3FC;\n",
              "    }\n",
              "\n",
              "    [theme=dark] .colab-df-convert:hover {\n",
              "      background-color: #434B5C;\n",
              "      box-shadow: 0px 1px 3px 1px rgba(0, 0, 0, 0.15);\n",
              "      filter: drop-shadow(0px 1px 2px rgba(0, 0, 0, 0.3));\n",
              "      fill: #FFFFFF;\n",
              "    }\n",
              "  </style>\n",
              "\n",
              "    <script>\n",
              "      const buttonEl =\n",
              "        document.querySelector('#df-59b74a75-08aa-4cd4-91ac-6fbdbe74d309 button.colab-df-convert');\n",
              "      buttonEl.style.display =\n",
              "        google.colab.kernel.accessAllowed ? 'block' : 'none';\n",
              "\n",
              "      async function convertToInteractive(key) {\n",
              "        const element = document.querySelector('#df-59b74a75-08aa-4cd4-91ac-6fbdbe74d309');\n",
              "        const dataTable =\n",
              "          await google.colab.kernel.invokeFunction('convertToInteractive',\n",
              "                                                    [key], {});\n",
              "        if (!dataTable) return;\n",
              "\n",
              "        const docLinkHtml = 'Like what you see? Visit the ' +\n",
              "          '<a target=\"_blank\" href=https://colab.research.google.com/notebooks/data_table.ipynb>data table notebook</a>'\n",
              "          + ' to learn more about interactive tables.';\n",
              "        element.innerHTML = '';\n",
              "        dataTable['output_type'] = 'display_data';\n",
              "        await google.colab.output.renderOutput(dataTable, element);\n",
              "        const docLink = document.createElement('div');\n",
              "        docLink.innerHTML = docLinkHtml;\n",
              "        element.appendChild(docLink);\n",
              "      }\n",
              "    </script>\n",
              "  </div>\n",
              "\n",
              "\n",
              "<div id=\"df-49a5e498-84ba-47a1-a269-f07bab02665f\">\n",
              "  <button class=\"colab-df-quickchart\" onclick=\"quickchart('df-49a5e498-84ba-47a1-a269-f07bab02665f')\"\n",
              "            title=\"Suggest charts\"\n",
              "            style=\"display:none;\">\n",
              "\n",
              "<svg xmlns=\"http://www.w3.org/2000/svg\" height=\"24px\"viewBox=\"0 0 24 24\"\n",
              "     width=\"24px\">\n",
              "    <g>\n",
              "        <path d=\"M19 3H5c-1.1 0-2 .9-2 2v14c0 1.1.9 2 2 2h14c1.1 0 2-.9 2-2V5c0-1.1-.9-2-2-2zM9 17H7v-7h2v7zm4 0h-2V7h2v10zm4 0h-2v-4h2v4z\"/>\n",
              "    </g>\n",
              "</svg>\n",
              "  </button>\n",
              "\n",
              "<style>\n",
              "  .colab-df-quickchart {\n",
              "      --bg-color: #E8F0FE;\n",
              "      --fill-color: #1967D2;\n",
              "      --hover-bg-color: #E2EBFA;\n",
              "      --hover-fill-color: #174EA6;\n",
              "      --disabled-fill-color: #AAA;\n",
              "      --disabled-bg-color: #DDD;\n",
              "  }\n",
              "\n",
              "  [theme=dark] .colab-df-quickchart {\n",
              "      --bg-color: #3B4455;\n",
              "      --fill-color: #D2E3FC;\n",
              "      --hover-bg-color: #434B5C;\n",
              "      --hover-fill-color: #FFFFFF;\n",
              "      --disabled-bg-color: #3B4455;\n",
              "      --disabled-fill-color: #666;\n",
              "  }\n",
              "\n",
              "  .colab-df-quickchart {\n",
              "    background-color: var(--bg-color);\n",
              "    border: none;\n",
              "    border-radius: 50%;\n",
              "    cursor: pointer;\n",
              "    display: none;\n",
              "    fill: var(--fill-color);\n",
              "    height: 32px;\n",
              "    padding: 0;\n",
              "    width: 32px;\n",
              "  }\n",
              "\n",
              "  .colab-df-quickchart:hover {\n",
              "    background-color: var(--hover-bg-color);\n",
              "    box-shadow: 0 1px 2px rgba(60, 64, 67, 0.3), 0 1px 3px 1px rgba(60, 64, 67, 0.15);\n",
              "    fill: var(--button-hover-fill-color);\n",
              "  }\n",
              "\n",
              "  .colab-df-quickchart-complete:disabled,\n",
              "  .colab-df-quickchart-complete:disabled:hover {\n",
              "    background-color: var(--disabled-bg-color);\n",
              "    fill: var(--disabled-fill-color);\n",
              "    box-shadow: none;\n",
              "  }\n",
              "\n",
              "  .colab-df-spinner {\n",
              "    border: 2px solid var(--fill-color);\n",
              "    border-color: transparent;\n",
              "    border-bottom-color: var(--fill-color);\n",
              "    animation:\n",
              "      spin 1s steps(1) infinite;\n",
              "  }\n",
              "\n",
              "  @keyframes spin {\n",
              "    0% {\n",
              "      border-color: transparent;\n",
              "      border-bottom-color: var(--fill-color);\n",
              "      border-left-color: var(--fill-color);\n",
              "    }\n",
              "    20% {\n",
              "      border-color: transparent;\n",
              "      border-left-color: var(--fill-color);\n",
              "      border-top-color: var(--fill-color);\n",
              "    }\n",
              "    30% {\n",
              "      border-color: transparent;\n",
              "      border-left-color: var(--fill-color);\n",
              "      border-top-color: var(--fill-color);\n",
              "      border-right-color: var(--fill-color);\n",
              "    }\n",
              "    40% {\n",
              "      border-color: transparent;\n",
              "      border-right-color: var(--fill-color);\n",
              "      border-top-color: var(--fill-color);\n",
              "    }\n",
              "    60% {\n",
              "      border-color: transparent;\n",
              "      border-right-color: var(--fill-color);\n",
              "    }\n",
              "    80% {\n",
              "      border-color: transparent;\n",
              "      border-right-color: var(--fill-color);\n",
              "      border-bottom-color: var(--fill-color);\n",
              "    }\n",
              "    90% {\n",
              "      border-color: transparent;\n",
              "      border-bottom-color: var(--fill-color);\n",
              "    }\n",
              "  }\n",
              "</style>\n",
              "\n",
              "  <script>\n",
              "    async function quickchart(key) {\n",
              "      const quickchartButtonEl =\n",
              "        document.querySelector('#' + key + ' button');\n",
              "      quickchartButtonEl.disabled = true;  // To prevent multiple clicks.\n",
              "      quickchartButtonEl.classList.add('colab-df-spinner');\n",
              "      try {\n",
              "        const charts = await google.colab.kernel.invokeFunction(\n",
              "            'suggestCharts', [key], {});\n",
              "      } catch (error) {\n",
              "        console.error('Error during call to suggestCharts:', error);\n",
              "      }\n",
              "      quickchartButtonEl.classList.remove('colab-df-spinner');\n",
              "      quickchartButtonEl.classList.add('colab-df-quickchart-complete');\n",
              "    }\n",
              "    (() => {\n",
              "      let quickchartButtonEl =\n",
              "        document.querySelector('#df-49a5e498-84ba-47a1-a269-f07bab02665f button');\n",
              "      quickchartButtonEl.style.display =\n",
              "        google.colab.kernel.accessAllowed ? 'block' : 'none';\n",
              "    })();\n",
              "  </script>\n",
              "</div>\n",
              "    </div>\n",
              "  </div>\n"
            ]
          },
          "metadata": {},
          "execution_count": 18
        }
      ]
    },
    {
      "cell_type": "code",
      "source": [
        "train_y.head()"
      ],
      "metadata": {
        "colab": {
          "base_uri": "https://localhost:8080/",
          "height": 226
        },
        "id": "rVbzdaiS4qF0",
        "outputId": "4de0c9ae-17bf-4646-ffc2-635a7444cdff"
      },
      "execution_count": null,
      "outputs": [
        {
          "output_type": "execute_result",
          "data": {
            "text/plain": [
              "   male  female  LGBTQ  christian  muslim  other_religions  black  white  \\\n",
              "0     0       0      0          0       0                0      1      0   \n",
              "1     1       1      0          0       0                0      0      0   \n",
              "2     0       0      0          0       0                0      0      0   \n",
              "3     0       0      0          0       0                0      1      1   \n",
              "4     0       0      0          0       0                0      0      0   \n",
              "\n",
              "   identity_any  severe_toxicity  obscene  threat  insult  identity_attack  \\\n",
              "0             1                0        0       0       0                1   \n",
              "1             1                0        0       0       0                1   \n",
              "2             0                0        0       0       1                0   \n",
              "3             1                0        0       0       0                1   \n",
              "4             0                0        0       0       1                0   \n",
              "\n",
              "   sexual_explicit  y  from_source_domain  \n",
              "0                0  1                   1  \n",
              "1                0  1                   1  \n",
              "2                0  1                   1  \n",
              "3                0  1                   1  \n",
              "4                0  1                   1  "
            ],
            "text/html": [
              "\n",
              "  <div id=\"df-1552eee8-c318-4f0e-bc8c-76e1ae19a588\" class=\"colab-df-container\">\n",
              "    <div>\n",
              "<style scoped>\n",
              "    .dataframe tbody tr th:only-of-type {\n",
              "        vertical-align: middle;\n",
              "    }\n",
              "\n",
              "    .dataframe tbody tr th {\n",
              "        vertical-align: top;\n",
              "    }\n",
              "\n",
              "    .dataframe thead th {\n",
              "        text-align: right;\n",
              "    }\n",
              "</style>\n",
              "<table border=\"1\" class=\"dataframe\">\n",
              "  <thead>\n",
              "    <tr style=\"text-align: right;\">\n",
              "      <th></th>\n",
              "      <th>male</th>\n",
              "      <th>female</th>\n",
              "      <th>LGBTQ</th>\n",
              "      <th>christian</th>\n",
              "      <th>muslim</th>\n",
              "      <th>other_religions</th>\n",
              "      <th>black</th>\n",
              "      <th>white</th>\n",
              "      <th>identity_any</th>\n",
              "      <th>severe_toxicity</th>\n",
              "      <th>obscene</th>\n",
              "      <th>threat</th>\n",
              "      <th>insult</th>\n",
              "      <th>identity_attack</th>\n",
              "      <th>sexual_explicit</th>\n",
              "      <th>y</th>\n",
              "      <th>from_source_domain</th>\n",
              "    </tr>\n",
              "  </thead>\n",
              "  <tbody>\n",
              "    <tr>\n",
              "      <th>0</th>\n",
              "      <td>0</td>\n",
              "      <td>0</td>\n",
              "      <td>0</td>\n",
              "      <td>0</td>\n",
              "      <td>0</td>\n",
              "      <td>0</td>\n",
              "      <td>1</td>\n",
              "      <td>0</td>\n",
              "      <td>1</td>\n",
              "      <td>0</td>\n",
              "      <td>0</td>\n",
              "      <td>0</td>\n",
              "      <td>0</td>\n",
              "      <td>1</td>\n",
              "      <td>0</td>\n",
              "      <td>1</td>\n",
              "      <td>1</td>\n",
              "    </tr>\n",
              "    <tr>\n",
              "      <th>1</th>\n",
              "      <td>1</td>\n",
              "      <td>1</td>\n",
              "      <td>0</td>\n",
              "      <td>0</td>\n",
              "      <td>0</td>\n",
              "      <td>0</td>\n",
              "      <td>0</td>\n",
              "      <td>0</td>\n",
              "      <td>1</td>\n",
              "      <td>0</td>\n",
              "      <td>0</td>\n",
              "      <td>0</td>\n",
              "      <td>0</td>\n",
              "      <td>1</td>\n",
              "      <td>0</td>\n",
              "      <td>1</td>\n",
              "      <td>1</td>\n",
              "    </tr>\n",
              "    <tr>\n",
              "      <th>2</th>\n",
              "      <td>0</td>\n",
              "      <td>0</td>\n",
              "      <td>0</td>\n",
              "      <td>0</td>\n",
              "      <td>0</td>\n",
              "      <td>0</td>\n",
              "      <td>0</td>\n",
              "      <td>0</td>\n",
              "      <td>0</td>\n",
              "      <td>0</td>\n",
              "      <td>0</td>\n",
              "      <td>0</td>\n",
              "      <td>1</td>\n",
              "      <td>0</td>\n",
              "      <td>0</td>\n",
              "      <td>1</td>\n",
              "      <td>1</td>\n",
              "    </tr>\n",
              "    <tr>\n",
              "      <th>3</th>\n",
              "      <td>0</td>\n",
              "      <td>0</td>\n",
              "      <td>0</td>\n",
              "      <td>0</td>\n",
              "      <td>0</td>\n",
              "      <td>0</td>\n",
              "      <td>1</td>\n",
              "      <td>1</td>\n",
              "      <td>1</td>\n",
              "      <td>0</td>\n",
              "      <td>0</td>\n",
              "      <td>0</td>\n",
              "      <td>0</td>\n",
              "      <td>1</td>\n",
              "      <td>0</td>\n",
              "      <td>1</td>\n",
              "      <td>1</td>\n",
              "    </tr>\n",
              "    <tr>\n",
              "      <th>4</th>\n",
              "      <td>0</td>\n",
              "      <td>0</td>\n",
              "      <td>0</td>\n",
              "      <td>0</td>\n",
              "      <td>0</td>\n",
              "      <td>0</td>\n",
              "      <td>0</td>\n",
              "      <td>0</td>\n",
              "      <td>0</td>\n",
              "      <td>0</td>\n",
              "      <td>0</td>\n",
              "      <td>0</td>\n",
              "      <td>1</td>\n",
              "      <td>0</td>\n",
              "      <td>0</td>\n",
              "      <td>1</td>\n",
              "      <td>1</td>\n",
              "    </tr>\n",
              "  </tbody>\n",
              "</table>\n",
              "</div>\n",
              "    <div class=\"colab-df-buttons\">\n",
              "\n",
              "  <div class=\"colab-df-container\">\n",
              "    <button class=\"colab-df-convert\" onclick=\"convertToInteractive('df-1552eee8-c318-4f0e-bc8c-76e1ae19a588')\"\n",
              "            title=\"Convert this dataframe to an interactive table.\"\n",
              "            style=\"display:none;\">\n",
              "\n",
              "  <svg xmlns=\"http://www.w3.org/2000/svg\" height=\"24px\" viewBox=\"0 -960 960 960\">\n",
              "    <path d=\"M120-120v-720h720v720H120Zm60-500h600v-160H180v160Zm220 220h160v-160H400v160Zm0 220h160v-160H400v160ZM180-400h160v-160H180v160Zm440 0h160v-160H620v160ZM180-180h160v-160H180v160Zm440 0h160v-160H620v160Z\"/>\n",
              "  </svg>\n",
              "    </button>\n",
              "\n",
              "  <style>\n",
              "    .colab-df-container {\n",
              "      display:flex;\n",
              "      gap: 12px;\n",
              "    }\n",
              "\n",
              "    .colab-df-convert {\n",
              "      background-color: #E8F0FE;\n",
              "      border: none;\n",
              "      border-radius: 50%;\n",
              "      cursor: pointer;\n",
              "      display: none;\n",
              "      fill: #1967D2;\n",
              "      height: 32px;\n",
              "      padding: 0 0 0 0;\n",
              "      width: 32px;\n",
              "    }\n",
              "\n",
              "    .colab-df-convert:hover {\n",
              "      background-color: #E2EBFA;\n",
              "      box-shadow: 0px 1px 2px rgba(60, 64, 67, 0.3), 0px 1px 3px 1px rgba(60, 64, 67, 0.15);\n",
              "      fill: #174EA6;\n",
              "    }\n",
              "\n",
              "    .colab-df-buttons div {\n",
              "      margin-bottom: 4px;\n",
              "    }\n",
              "\n",
              "    [theme=dark] .colab-df-convert {\n",
              "      background-color: #3B4455;\n",
              "      fill: #D2E3FC;\n",
              "    }\n",
              "\n",
              "    [theme=dark] .colab-df-convert:hover {\n",
              "      background-color: #434B5C;\n",
              "      box-shadow: 0px 1px 3px 1px rgba(0, 0, 0, 0.15);\n",
              "      filter: drop-shadow(0px 1px 2px rgba(0, 0, 0, 0.3));\n",
              "      fill: #FFFFFF;\n",
              "    }\n",
              "  </style>\n",
              "\n",
              "    <script>\n",
              "      const buttonEl =\n",
              "        document.querySelector('#df-1552eee8-c318-4f0e-bc8c-76e1ae19a588 button.colab-df-convert');\n",
              "      buttonEl.style.display =\n",
              "        google.colab.kernel.accessAllowed ? 'block' : 'none';\n",
              "\n",
              "      async function convertToInteractive(key) {\n",
              "        const element = document.querySelector('#df-1552eee8-c318-4f0e-bc8c-76e1ae19a588');\n",
              "        const dataTable =\n",
              "          await google.colab.kernel.invokeFunction('convertToInteractive',\n",
              "                                                    [key], {});\n",
              "        if (!dataTable) return;\n",
              "\n",
              "        const docLinkHtml = 'Like what you see? Visit the ' +\n",
              "          '<a target=\"_blank\" href=https://colab.research.google.com/notebooks/data_table.ipynb>data table notebook</a>'\n",
              "          + ' to learn more about interactive tables.';\n",
              "        element.innerHTML = '';\n",
              "        dataTable['output_type'] = 'display_data';\n",
              "        await google.colab.output.renderOutput(dataTable, element);\n",
              "        const docLink = document.createElement('div');\n",
              "        docLink.innerHTML = docLinkHtml;\n",
              "        element.appendChild(docLink);\n",
              "      }\n",
              "    </script>\n",
              "  </div>\n",
              "\n",
              "\n",
              "<div id=\"df-3cded42d-0b1d-46bf-98d7-9143ed707c39\">\n",
              "  <button class=\"colab-df-quickchart\" onclick=\"quickchart('df-3cded42d-0b1d-46bf-98d7-9143ed707c39')\"\n",
              "            title=\"Suggest charts\"\n",
              "            style=\"display:none;\">\n",
              "\n",
              "<svg xmlns=\"http://www.w3.org/2000/svg\" height=\"24px\"viewBox=\"0 0 24 24\"\n",
              "     width=\"24px\">\n",
              "    <g>\n",
              "        <path d=\"M19 3H5c-1.1 0-2 .9-2 2v14c0 1.1.9 2 2 2h14c1.1 0 2-.9 2-2V5c0-1.1-.9-2-2-2zM9 17H7v-7h2v7zm4 0h-2V7h2v10zm4 0h-2v-4h2v4z\"/>\n",
              "    </g>\n",
              "</svg>\n",
              "  </button>\n",
              "\n",
              "<style>\n",
              "  .colab-df-quickchart {\n",
              "      --bg-color: #E8F0FE;\n",
              "      --fill-color: #1967D2;\n",
              "      --hover-bg-color: #E2EBFA;\n",
              "      --hover-fill-color: #174EA6;\n",
              "      --disabled-fill-color: #AAA;\n",
              "      --disabled-bg-color: #DDD;\n",
              "  }\n",
              "\n",
              "  [theme=dark] .colab-df-quickchart {\n",
              "      --bg-color: #3B4455;\n",
              "      --fill-color: #D2E3FC;\n",
              "      --hover-bg-color: #434B5C;\n",
              "      --hover-fill-color: #FFFFFF;\n",
              "      --disabled-bg-color: #3B4455;\n",
              "      --disabled-fill-color: #666;\n",
              "  }\n",
              "\n",
              "  .colab-df-quickchart {\n",
              "    background-color: var(--bg-color);\n",
              "    border: none;\n",
              "    border-radius: 50%;\n",
              "    cursor: pointer;\n",
              "    display: none;\n",
              "    fill: var(--fill-color);\n",
              "    height: 32px;\n",
              "    padding: 0;\n",
              "    width: 32px;\n",
              "  }\n",
              "\n",
              "  .colab-df-quickchart:hover {\n",
              "    background-color: var(--hover-bg-color);\n",
              "    box-shadow: 0 1px 2px rgba(60, 64, 67, 0.3), 0 1px 3px 1px rgba(60, 64, 67, 0.15);\n",
              "    fill: var(--button-hover-fill-color);\n",
              "  }\n",
              "\n",
              "  .colab-df-quickchart-complete:disabled,\n",
              "  .colab-df-quickchart-complete:disabled:hover {\n",
              "    background-color: var(--disabled-bg-color);\n",
              "    fill: var(--disabled-fill-color);\n",
              "    box-shadow: none;\n",
              "  }\n",
              "\n",
              "  .colab-df-spinner {\n",
              "    border: 2px solid var(--fill-color);\n",
              "    border-color: transparent;\n",
              "    border-bottom-color: var(--fill-color);\n",
              "    animation:\n",
              "      spin 1s steps(1) infinite;\n",
              "  }\n",
              "\n",
              "  @keyframes spin {\n",
              "    0% {\n",
              "      border-color: transparent;\n",
              "      border-bottom-color: var(--fill-color);\n",
              "      border-left-color: var(--fill-color);\n",
              "    }\n",
              "    20% {\n",
              "      border-color: transparent;\n",
              "      border-left-color: var(--fill-color);\n",
              "      border-top-color: var(--fill-color);\n",
              "    }\n",
              "    30% {\n",
              "      border-color: transparent;\n",
              "      border-left-color: var(--fill-color);\n",
              "      border-top-color: var(--fill-color);\n",
              "      border-right-color: var(--fill-color);\n",
              "    }\n",
              "    40% {\n",
              "      border-color: transparent;\n",
              "      border-right-color: var(--fill-color);\n",
              "      border-top-color: var(--fill-color);\n",
              "    }\n",
              "    60% {\n",
              "      border-color: transparent;\n",
              "      border-right-color: var(--fill-color);\n",
              "    }\n",
              "    80% {\n",
              "      border-color: transparent;\n",
              "      border-right-color: var(--fill-color);\n",
              "      border-bottom-color: var(--fill-color);\n",
              "    }\n",
              "    90% {\n",
              "      border-color: transparent;\n",
              "      border-bottom-color: var(--fill-color);\n",
              "    }\n",
              "  }\n",
              "</style>\n",
              "\n",
              "  <script>\n",
              "    async function quickchart(key) {\n",
              "      const quickchartButtonEl =\n",
              "        document.querySelector('#' + key + ' button');\n",
              "      quickchartButtonEl.disabled = true;  // To prevent multiple clicks.\n",
              "      quickchartButtonEl.classList.add('colab-df-spinner');\n",
              "      try {\n",
              "        const charts = await google.colab.kernel.invokeFunction(\n",
              "            'suggestCharts', [key], {});\n",
              "      } catch (error) {\n",
              "        console.error('Error during call to suggestCharts:', error);\n",
              "      }\n",
              "      quickchartButtonEl.classList.remove('colab-df-spinner');\n",
              "      quickchartButtonEl.classList.add('colab-df-quickchart-complete');\n",
              "    }\n",
              "    (() => {\n",
              "      let quickchartButtonEl =\n",
              "        document.querySelector('#df-3cded42d-0b1d-46bf-98d7-9143ed707c39 button');\n",
              "      quickchartButtonEl.style.display =\n",
              "        google.colab.kernel.accessAllowed ? 'block' : 'none';\n",
              "    })();\n",
              "  </script>\n",
              "</div>\n",
              "    </div>\n",
              "  </div>\n"
            ]
          },
          "metadata": {},
          "execution_count": 19
        }
      ]
    },
    {
      "cell_type": "markdown",
      "source": [
        "Check Embedding Completion Status\n",
        "***"
      ],
      "metadata": {
        "id": "VJIsT9mwTXrW"
      }
    },
    {
      "cell_type": "code",
      "source": [
        "from collections import Counter\n",
        "\n",
        "def check_coverage(vocab, embeddings_index, word_index):\n",
        "    known_words = {}\n",
        "    unknown_words = {}\n",
        "    num_known_words = 0\n",
        "    num_unknown_words = 0\n",
        "\n",
        "    for word in vocab.keys():\n",
        "        try:\n",
        "            # Get the index of the word from word_index\n",
        "            idx = word_index[word]\n",
        "            # Retrieve the embedding vector for the word using its index\n",
        "            word_embedding = embeddings_index[idx]\n",
        "            # If the embedding vector is not just zeros, count the word as known\n",
        "            if np.count_nonzero(word_embedding) > 0:\n",
        "                known_words[word] = word_embedding\n",
        "                num_known_words += vocab[word]\n",
        "            else:\n",
        "                unknown_words[word] = vocab[word]\n",
        "                num_unknown_words += vocab[word]\n",
        "        except KeyError:\n",
        "            unknown_words[word] = vocab[word]\n",
        "            num_unknown_words += vocab[word]\n",
        "\n",
        "    print(f\"Found embeddings for {round((num_known_words / (num_known_words + num_unknown_words)) * 100, 2)}% of vocab\")\n",
        "    print(f\"Found embeddings for  {num_known_words} words in the dataset\")\n",
        "    print(f\"Did not find embeddings for {round((num_unknown_words / (num_known_words + num_unknown_words)) * 100, 2)}% of vocab\")\n",
        "    print(f\"Did not find embeddings for {num_unknown_words} words in the dataset\")\n",
        "    return known_words, unknown_words\n",
        "\n",
        "# Build a vocabulary dictionary from your dataset: word -> frequency\n",
        "vocab = Counter()\n",
        "for tokens_list in train_x['tokens']:\n",
        "    vocab.update(tokens_list)\n",
        "\n",
        "# Now call the function with your vocab, embeddings array, and word index\n",
        "known_words, unknown_words = check_coverage(vocab, glove_embeddings, word_index)"
      ],
      "metadata": {
        "colab": {
          "base_uri": "https://localhost:8080/"
        },
        "id": "C2mHNkzIQquy",
        "outputId": "eed44035-d486-48a5-cca5-58e157c9c401"
      },
      "execution_count": 15,
      "outputs": [
        {
          "output_type": "stream",
          "name": "stdout",
          "text": [
            "Found embeddings for 99.54% of vocab\n",
            "Found embeddings for  16732786 words in the dataset\n",
            "Did not find embeddings for 0.46% of vocab\n",
            "Did not find embeddings for 77710 words in the dataset\n"
          ]
        }
      ]
    },
    {
      "cell_type": "markdown",
      "source": [
        "The embedding coverage check indicates that the GloVe embeddings provide a robust representation for this dataset, with 99.54% of the vocabulary found in the embeddings index. This high coverage means that the vast majority of words used in the dataset have a pre-trained vector representation, which is essential for creating meaningful input features for models like LSTM, GRU, or CNN."
      ],
      "metadata": {
        "id": "kIEc9hdBpwdj"
      }
    },
    {
      "cell_type": "markdown",
      "source": [
        "**Create Train & Validation Datasets and DataLoader**\n",
        "---"
      ],
      "metadata": {
        "id": "H6oBrKJudKRj"
      }
    },
    {
      "cell_type": "code",
      "source": [
        "# Create datasets\n",
        "train_dataset = TextDataset(list(train_x['indices']), list(train_y['y']))\n",
        "val_dataset = TextDataset(list(val_x['indices']), list(val_y['y']))"
      ],
      "metadata": {
        "id": "wuyzgC4m2oJL"
      },
      "execution_count": 16,
      "outputs": []
    },
    {
      "cell_type": "code",
      "source": [
        "from torch.nn.utils.rnn import pad_sequence\n",
        "from torch.autograd import Variable\n",
        "\n",
        "# Helper function to pad sequences and sort the batch\n",
        "def pad_and_sort_batch(DataLoaderBatch):\n",
        "    if isinstance(DataLoaderBatch[0], tuple):\n",
        "        # If DataLoaderBatch items are tuples (sequence, label), unpack them\n",
        "        sequences, labels = zip(*DataLoaderBatch)\n",
        "        labels = torch.stack(labels)  # Ensure labels are a tensor as well\n",
        "    else:\n",
        "        # If DataLoaderBatch items are just sequences (as in test data), don't unpack\n",
        "        sequences = DataLoaderBatch\n",
        "        labels = None  # No labels in test data\n",
        "\n",
        "    sequences_padded = pad_sequence(sequences, batch_first=True)\n",
        "    return sequences_padded, labels"
      ],
      "metadata": {
        "id": "-xK1n4VM28Pp"
      },
      "execution_count": 17,
      "outputs": []
    },
    {
      "cell_type": "code",
      "source": [
        "# Create DataLoaders\n",
        "train_loader = DataLoader(train_dataset, batch_size=256, shuffle=True, collate_fn=pad_and_sort_batch)\n",
        "val_loader = DataLoader(val_dataset, batch_size=256, shuffle=False, collate_fn=pad_and_sort_batch)"
      ],
      "metadata": {
        "id": "PsopuIeY25p0"
      },
      "execution_count": 18,
      "outputs": []
    },
    {
      "cell_type": "markdown",
      "source": [
        "## **Training & Validation**  \n",
        "\n",
        "1. Embedding Method & Layer: Glove(glove.840B.300d.txt => Common Crawl (840B tokens, 2.2M vocab, cased, 300d vectors)\n",
        "  \n",
        "2. [Training Models]\n",
        "  - CNN\n",
        "  - LSTM\n",
        "  - Bidirection LSTM\n",
        "  - Bidirection GRU\n",
        "  - Dynamic Architecture: BiGRU + CNN"
      ],
      "metadata": {
        "id": "gKHODHgVUGna"
      }
    },
    {
      "cell_type": "markdown",
      "source": [
        "**1. CNN**\n",
        "---"
      ],
      "metadata": {
        "id": "B24s0bidV_72"
      }
    },
    {
      "cell_type": "code",
      "source": [
        "class CNNClassifier(nn.Module):\n",
        "    def __init__(self, embedding_matrix, num_filters, filter_sizes, output_dim, dropout):\n",
        "        super(CNNClassifier, self).__init__()\n",
        "        self.embedding = nn.Embedding.from_pretrained(torch.tensor(embedding_matrix, dtype=torch.float))\n",
        "\n",
        "        self.convs = nn.ModuleList([\n",
        "            nn.Conv2d(in_channels=1, out_channels=num_filters, kernel_size=(fs, embedding_matrix.shape[1]))\n",
        "            for fs in filter_sizes\n",
        "        ])\n",
        "\n",
        "        self.fc = nn.Linear(len(filter_sizes) * num_filters, output_dim)\n",
        "        self.dropout = nn.Dropout(dropout)\n",
        "        self.sigmoid = nn.Sigmoid()\n",
        "\n",
        "    def forward(self, x):\n",
        "        x = self.embedding(x).unsqueeze(1)  # Add a channel dimension\n",
        "        x = [F.relu(conv(x)).squeeze(3) for conv in self.convs]\n",
        "        x = [F.max_pool1d(i, i.size(2)).squeeze(2) for i in x]\n",
        "        x = torch.cat(x, 1)\n",
        "        x = self.dropout(x)\n",
        "        x = self.fc(x)\n",
        "        return self.sigmoid(x)"
      ],
      "metadata": {
        "id": "tu5MWBelWAgM"
      },
      "execution_count": 19,
      "outputs": []
    },
    {
      "cell_type": "markdown",
      "source": [
        "[ Model Setting ]  \n",
        "3 Convoloutional Layer with Kernel size (2, 3, 4)  \n",
        "3 Pooling Layers (following each convolutional layer)   \n",
        "Dropout rate: 0.2"
      ],
      "metadata": {
        "id": "wVAya02oWUMm"
      }
    },
    {
      "cell_type": "code",
      "source": [
        "cnn_model = CNNClassifier(glove_embeddings, num_filters=128, filter_sizes=[2,3,4], output_dim=1, dropout=0.2)\n",
        "cnn_model.to(device)\n",
        "\n",
        "criterion = nn.BCELoss()\n",
        "optimizer = optim.Adam(cnn_model.parameters(), lr=0.001)\n",
        "scheduler = torch.optim.lr_scheduler.LambdaLR(optimizer, lambda epoch: 0.9 ** epoch)\n",
        "num_epochs = 15"
      ],
      "metadata": {
        "id": "gdntsOawWPp8"
      },
      "execution_count": 20,
      "outputs": []
    },
    {
      "cell_type": "code",
      "source": [
        "early_stopping_patience = 3\n",
        "best_val_loss = float('inf')\n",
        "patience_counter = 0\n",
        "\n",
        "# Training and Validation Loops with Subgroup Accuracy Calculation\n",
        "for epoch in range(num_epochs):\n",
        "    cnn_model.train()\n",
        "    total_loss = 0\n",
        "\n",
        "    # Training\n",
        "    for sequences, labels in train_loader:\n",
        "        sequences, labels = sequences.to(device), labels.to(device)\n",
        "\n",
        "        optimizer.zero_grad()\n",
        "        output = cnn_model(sequences)\n",
        "        loss = criterion(output.squeeze(), labels.float())\n",
        "        loss.backward()\n",
        "        optimizer.step()\n",
        "        total_loss += loss.item()\n",
        "\n",
        "    print(f'Epoch {epoch+1}, Training Loss: {total_loss/len(train_loader)}')\n",
        "\n",
        "    # Validation\n",
        "    cnn_model.eval()\n",
        "    with torch.no_grad():\n",
        "        total = 0\n",
        "        correct = 0\n",
        "        total_loss = 0\n",
        "        for sequences, labels in val_loader:\n",
        "            sequences, labels = sequences.to(device), labels.to(device)\n",
        "            output = cnn_model(sequences)\n",
        "            predicted = (output.squeeze() > 0.5).float()\n",
        "            total += labels.size(0)\n",
        "            correct += (predicted == labels).sum().item()\n",
        "            loss = criterion(output.squeeze(), labels.float())\n",
        "            total_loss += loss.item()\n",
        "\n",
        "    print(f'Epoch {epoch+1}, Validation Accuracy: {correct / total}, Validation Loss: {total_loss / len(val_loader)}')\n",
        "\n",
        "    # Subgroup Accuracy Calculation\n",
        "    subgroup_accuracy = {}\n",
        "    with torch.no_grad():\n",
        "        for subgroup in ['male', 'female', 'LGBTQ', 'christian', 'muslim', 'other_religions', 'black', 'white']:\n",
        "            total = 0\n",
        "            correct = 0\n",
        "            subgroup_indices = val_y[subgroup] == 1\n",
        "            subgroup_val_x = val_x[subgroup_indices]\n",
        "            subgroup_val_y = val_y['y'][subgroup_indices]\n",
        "            subgroup_dataset = TextDataset(list(subgroup_val_x['indices']), list(subgroup_val_y))\n",
        "            subgroup_loader = DataLoader(subgroup_dataset, batch_size=32, shuffle=False, collate_fn=pad_and_sort_batch)\n",
        "\n",
        "            for sequences, labels in subgroup_loader:\n",
        "                sequences, labels = sequences.to(device), labels.to(device)\n",
        "                output = cnn_model(sequences)\n",
        "                predicted = (output.squeeze() > 0.5).float()\n",
        "                total += labels.size(0)\n",
        "                correct += (predicted == labels).sum().item()\n",
        "\n",
        "            subgroup_accuracy[subgroup] = correct / total if total > 0 else 0\n",
        "\n",
        "    print(f\"Epoch {epoch+1}, Subgroup Accuracies: {subgroup_accuracy}\")\n",
        "    print(f\"WGA: {min(subgroup_accuracy.values())}\")\n",
        "\n",
        "    # Early Stopping Check\n",
        "    if (total_loss / len(val_loader)) < best_val_loss:\n",
        "        best_val_loss = (total_loss / len(val_loader))\n",
        "        patience_counter = 0\n",
        "    else:\n",
        "        patience_counter += 1\n",
        "\n",
        "    if patience_counter >= early_stopping_patience:\n",
        "        print(\"Stopping early due to no improvement in validation loss\")\n",
        "        break"
      ],
      "metadata": {
        "colab": {
          "base_uri": "https://localhost:8080/"
        },
        "id": "NA1qk4W8WtPQ",
        "outputId": "397604b3-8fb6-4cbe-b609-841367076dd3"
      },
      "execution_count": 21,
      "outputs": [
        {
          "output_type": "stream",
          "name": "stdout",
          "text": [
            "Epoch 1, Training Loss: 0.21958046910538206\n",
            "Epoch 1, Validation Accuracy: 0.9211819389110226, Validation Loss: 0.1923036553112969\n",
            "Epoch 1, Subgroup Accuracies: {'male': 0.895697796432319, 'female': 0.9023934815820743, 'LGBTQ': 0.814687714481812, 'christian': 0.9320879120879121, 'muslim': 0.8199052132701422, 'other_religions': 0.8640973630831643, 'black': 0.7542372881355932, 'white': 0.781304499476805}\n",
            "WGA: 0.7542372881355932\n",
            "Epoch 2, Training Loss: 0.1927759969637124\n",
            "Epoch 2, Validation Accuracy: 0.9184373616644533, Validation Loss: 0.19813074891344976\n",
            "Epoch 2, Subgroup Accuracies: {'male': 0.8898216159496327, 'female': 0.8964522152435919, 'LGBTQ': 0.7940974605353466, 'christian': 0.9296703296703297, 'muslim': 0.8161137440758294, 'other_religions': 0.8640973630831643, 'black': 0.7481840193704601, 'white': 0.7642134635507499}\n",
            "WGA: 0.7481840193704601\n",
            "Epoch 3, Training Loss: 0.17898581988691262\n",
            "Epoch 3, Validation Accuracy: 0.9214918105356352, Validation Loss: 0.19014601402068879\n",
            "Epoch 3, Subgroup Accuracies: {'male': 0.8921301154249738, 'female': 0.9039212357833984, 'LGBTQ': 0.8030199039121483, 'christian': 0.9281318681318681, 'muslim': 0.8118483412322275, 'other_religions': 0.8620689655172413, 'black': 0.7578692493946732, 'white': 0.7809557028252528}\n",
            "WGA: 0.7578692493946732\n",
            "Epoch 4, Training Loss: 0.16729261866503958\n",
            "Epoch 4, Validation Accuracy: 0.9224435590969455, Validation Loss: 0.1915535219013691\n",
            "Epoch 4, Subgroup Accuracies: {'male': 0.8942287513116475, 'female': 0.9056187404515362, 'LGBTQ': 0.8009608785175018, 'christian': 0.930989010989011, 'muslim': 0.8232227488151659, 'other_religions': 0.8732251521298174, 'black': 0.7506053268765133, 'white': 0.781304499476805}\n",
            "WGA: 0.7506053268765133\n",
            "Epoch 5, Training Loss: 0.15303630804329346\n",
            "Epoch 5, Validation Accuracy: 0.9210712704736609, Validation Loss: 0.20188429288692394\n",
            "Epoch 5, Subgroup Accuracies: {'male': 0.8891920251836306, 'female': 0.901884230181633, 'LGBTQ': 0.7954701441317776, 'christian': 0.9254945054945055, 'muslim': 0.8118483412322275, 'other_religions': 0.8701825557809331, 'black': 0.7493946731234867, 'white': 0.7736309731426578}\n",
            "WGA: 0.7493946731234867\n",
            "Epoch 6, Training Loss: 0.1393015933436626\n",
            "Epoch 6, Validation Accuracy: 0.9210270030987162, Validation Loss: 0.2054938739376132\n",
            "Epoch 6, Subgroup Accuracies: {'male': 0.8938090241343127, 'female': 0.9020539806484468, 'LGBTQ': 0.8091969800960879, 'christian': 0.9281318681318681, 'muslim': 0.8118483412322275, 'other_religions': 0.8661257606490872, 'black': 0.7487893462469734, 'white': 0.7792117195674921}\n",
            "WGA: 0.7487893462469734\n",
            "Stopping early due to no improvement in validation loss\n"
          ]
        }
      ]
    },
    {
      "cell_type": "markdown",
      "source": [
        "**2. LSTM**\n",
        "---"
      ],
      "metadata": {
        "id": "GZoFoaqOKyA6"
      }
    },
    {
      "cell_type": "code",
      "source": [
        "# Define LSTM Model\n",
        "class LSTMClassifier(nn.Module):\n",
        "    def __init__(self, embedding_matrix, hidden_dim, output_dim):\n",
        "        super(LSTMClassifier, self).__init__()\n",
        "        self.embedding = nn.Embedding.from_pretrained(torch.tensor(embedding_matrix, dtype=torch.float))\n",
        "        self.lstm = nn.LSTM(embedding_matrix.shape[1], hidden_size=hidden_dim, num_layers=1, batch_first=True)\n",
        "        self.fc = nn.Linear(hidden_dim, output_dim)\n",
        "        self.sigmoid = nn.Sigmoid()\n",
        "\n",
        "    def forward(self, x):\n",
        "        x = self.embedding(x)\n",
        "        lstm_out, (hidden, cell) = self.lstm(x)\n",
        "        last_hidden = lstm_out[:, -1, :]\n",
        "        out = self.fc(last_hidden)\n",
        "        return self.sigmoid(out)"
      ],
      "metadata": {
        "id": "bmZd1tO_2osA"
      },
      "execution_count": null,
      "outputs": []
    },
    {
      "cell_type": "markdown",
      "source": [
        "[ Model Setting ]  \n",
        "1 LSTM Layer  \n",
        "Dropout rate: None"
      ],
      "metadata": {
        "id": "RrJY5bvUYPCc"
      }
    },
    {
      "cell_type": "code",
      "source": [
        "model = LSTMClassifier(glove_embeddings, hidden_dim=128, output_dim=1)\n",
        "model.to(device)\n",
        "model.lstm.flatten_parameters()\n",
        "\n",
        "criterion = nn.BCELoss()\n",
        "optimizer = optim.Adam(model.parameters(), lr=0.001)\n",
        "scheduler = torch.optim.lr_scheduler.LambdaLR(optimizer, lambda epoch: 0.9 ** epoch)\n",
        "num_epochs = 10"
      ],
      "metadata": {
        "id": "TLipsHbX2rp2"
      },
      "execution_count": null,
      "outputs": []
    },
    {
      "cell_type": "code",
      "source": [
        "early_stopping_patience = 3\n",
        "best_val_loss = float('inf')\n",
        "patience_counter = 0\n",
        "\n",
        "# Training and Validation Loops with Subgroup Accuracy Calculation\n",
        "for epoch in range(num_epochs):\n",
        "    model.train()\n",
        "    total_loss = 0\n",
        "\n",
        "    # Training\n",
        "    for sequences, labels in train_loader:\n",
        "        sequences, labels = sequences.to(device), labels.to(device)\n",
        "\n",
        "        optimizer.zero_grad()\n",
        "        output = model(sequences)\n",
        "        loss = criterion(output.squeeze(), labels.float())\n",
        "        loss.backward()\n",
        "        optimizer.step()\n",
        "        total_loss += loss.item()\n",
        "\n",
        "    print(f'Epoch {epoch+1}, Training Loss: {total_loss/len(train_loader)}')\n",
        "\n",
        "    # Validation\n",
        "    model.eval()\n",
        "    with torch.no_grad():\n",
        "        total = 0\n",
        "        correct = 0\n",
        "        total_loss = 0\n",
        "        for sequences, labels in val_loader:\n",
        "            sequences, labels = sequences.to(device), labels.to(device)\n",
        "            output = model(sequences)\n",
        "            predicted = (output.squeeze() > 0.5).float()\n",
        "            total += labels.size(0)\n",
        "            correct += (predicted == labels).sum().item()\n",
        "            loss = criterion(output.squeeze(), labels.float())\n",
        "            total_loss += loss.item()\n",
        "\n",
        "    print(f'Epoch {epoch+1}, Validation Accuracy: {correct / total}, Validation Loss: {total_loss / len(val_loader)}')\n",
        "\n",
        "    # Subgroup Accuracy Calculation\n",
        "    subgroup_accuracy = {}\n",
        "    with torch.no_grad():\n",
        "        for subgroup in ['male', 'female', 'LGBTQ', 'christian', 'muslim', 'other_religions', 'black', 'white']:\n",
        "            total = 0\n",
        "            correct = 0\n",
        "            subgroup_indices = val_y[subgroup] == 1\n",
        "            subgroup_val_x = val_x[subgroup_indices]\n",
        "            subgroup_val_y = val_y['y'][subgroup_indices]\n",
        "            subgroup_dataset = TextDataset(list(subgroup_val_x['indices']), list(subgroup_val_y))\n",
        "            subgroup_loader = DataLoader(subgroup_dataset, batch_size=32, shuffle=False, collate_fn=pad_and_sort_batch)\n",
        "\n",
        "            for sequences, labels in subgroup_loader:\n",
        "                sequences, labels = sequences.to(device), labels.to(device)\n",
        "                output = model(sequences)\n",
        "                predicted = (output.squeeze() > 0.5).float()\n",
        "                total += labels.size(0)\n",
        "                correct += (predicted == labels).sum().item()\n",
        "\n",
        "            subgroup_accuracy[subgroup] = correct / total if total > 0 else 0\n",
        "\n",
        "    print(f\"Epoch {epoch+1}, Subgroup Accuracies: {subgroup_accuracy}\")\n",
        "    print(f\"WGA: {min(subgroup_accuracy.values())}\")\n",
        "\n",
        "    # Early Stopping Check\n",
        "    if (total_loss / len(val_loader)) < best_val_loss:\n",
        "        best_val_loss = (total_loss / len(val_loader))\n",
        "        patience_counter = 0\n",
        "    else:\n",
        "        patience_counter += 1\n",
        "\n",
        "    if patience_counter >= early_stopping_patience:\n",
        "        print(\"Stopping early due to no improvement in validation loss\")\n",
        "        break"
      ],
      "metadata": {
        "colab": {
          "base_uri": "https://localhost:8080/"
        },
        "id": "7NeQJAJM2sSl",
        "outputId": "6cc298b5-e222-4b27-92bc-ba7c19d93ecc"
      },
      "execution_count": null,
      "outputs": [
        {
          "output_type": "stream",
          "name": "stdout",
          "text": [
            "Epoch 1, Training Loss: 0.35738498419097897\n",
            "Epoch 1, Validation Accuracy: 0.8881142098273572, Validation Loss: 0.3497257287808731\n",
            "Epoch 1, Subgroup Accuracies: {'male': 0.8499475341028332, 'female': 0.8691223900865728, 'LGBTQ': 0.7542896362388469, 'christian': 0.9156043956043955, 'muslim': 0.7573459715639811, 'other_religions': 0.8356997971602435, 'black': 0.677360774818402, 'white': 0.7028252528775724}\n",
            "WGA: 0.677360774818402\n",
            "Epoch 2, Training Loss: 0.30635283966783566\n",
            "Epoch 2, Validation Accuracy: 0.9062638335546702, Validation Loss: 0.22617161156094007\n",
            "Epoch 2, Subgroup Accuracies: {'male': 0.8738719832109129, 'female': 0.8816839246307927, 'LGBTQ': 0.7776252573781743, 'christian': 0.9221978021978022, 'muslim': 0.7772511848341233, 'other_religions': 0.8438133874239351, 'black': 0.7221549636803875, 'white': 0.7478200209277991}\n",
            "WGA: 0.7221549636803875\n",
            "Epoch 3, Training Loss: 0.21083908852058633\n",
            "Epoch 3, Validation Accuracy: 0.9210048694112439, Validation Loss: 0.19558602786165172\n",
            "Epoch 3, Subgroup Accuracies: {'male': 0.8925498426023085, 'female': 0.8983194703785435, 'LGBTQ': 0.7989018531228552, 'christian': 0.9287912087912088, 'muslim': 0.8071090047393364, 'other_religions': 0.847870182555781, 'black': 0.7536319612590799, 'white': 0.7816532961283572}\n",
            "WGA: 0.7536319612590799\n",
            "Epoch 4, Training Loss: 0.19055076813295158\n",
            "Epoch 4, Validation Accuracy: 0.9239043824701195, Validation Loss: 0.18602806558085364\n",
            "Epoch 4, Subgroup Accuracies: {'male': 0.8904512067156348, 'female': 0.9037514853165847, 'LGBTQ': 0.8030199039121483, 'christian': 0.9298901098901099, 'muslim': 0.8165876777251185, 'other_religions': 0.8691683569979716, 'black': 0.7596852300242131, 'white': 0.7854900592954308}\n",
            "WGA: 0.7596852300242131\n",
            "Epoch 5, Training Loss: 0.17959736836994408\n",
            "Epoch 5, Validation Accuracy: 0.9243249225320939, Validation Loss: 0.1853139183699748\n",
            "Epoch 5, Subgroup Accuracies: {'male': 0.8900314795383001, 'female': 0.9051094890510949, 'LGBTQ': 0.8091969800960879, 'christian': 0.929010989010989, 'muslim': 0.8165876777251185, 'other_religions': 0.8691683569979716, 'black': 0.7602905569007264, 'white': 0.7858388559469829}\n",
            "WGA: 0.7602905569007264\n",
            "Epoch 6, Training Loss: 0.1709381309891745\n",
            "Epoch 6, Validation Accuracy: 0.9244798583444002, Validation Loss: 0.18672280089856036\n",
            "Epoch 6, Subgroup Accuracies: {'male': 0.8925498426023085, 'female': 0.9037514853165847, 'LGBTQ': 0.8078242964996568, 'christian': 0.9296703296703297, 'muslim': 0.818957345971564, 'other_religions': 0.8630831643002028, 'black': 0.763317191283293, 'white': 0.7893268224625044}\n",
            "WGA: 0.763317191283293\n",
            "Epoch 7, Training Loss: 0.16323281303544365\n",
            "Epoch 7, Validation Accuracy: 0.9235723771580345, Validation Loss: 0.18525767552608488\n",
            "Epoch 7, Subgroup Accuracies: {'male': 0.8898216159496327, 'female': 0.9017144797148192, 'LGBTQ': 0.8002745367192862, 'christian': 0.9292307692307692, 'muslim': 0.8184834123222748, 'other_religions': 0.8559837728194726, 'black': 0.7596852300242131, 'white': 0.7806069061737008}\n",
            "WGA: 0.7596852300242131\n",
            "Epoch 8, Training Loss: 0.1546081080323849\n",
            "Epoch 8, Validation Accuracy: 0.9237937140327579, Validation Loss: 0.19431059067742637\n",
            "Epoch 8, Subgroup Accuracies: {'male': 0.8904512067156348, 'female': 0.9027329825157019, 'LGBTQ': 0.8078242964996568, 'christian': 0.9336263736263736, 'muslim': 0.8251184834123223, 'other_religions': 0.8580121703853956, 'black': 0.7717917675544794, 'white': 0.7799093128705964}\n",
            "WGA: 0.7717917675544794\n",
            "Epoch 9, Training Loss: 0.1450734947986199\n",
            "Epoch 9, Validation Accuracy: 0.9221779548472776, Validation Loss: 0.19601652522355656\n",
            "Epoch 9, Subgroup Accuracies: {'male': 0.8885624344176285, 'female': 0.8978102189781022, 'LGBTQ': 0.8009608785175018, 'christian': 0.9298901098901099, 'muslim': 0.8170616113744076, 'other_religions': 0.8580121703853956, 'black': 0.763317191283293, 'white': 0.7785141262643879}\n",
            "WGA: 0.763317191283293\n",
            "Epoch 10, Training Loss: 0.1352536423959469\n",
            "Epoch 10, Validation Accuracy: 0.9216467463479415, Validation Loss: 0.1988664537584041\n",
            "Epoch 10, Subgroup Accuracies: {'male': 0.8866736621196223, 'female': 0.897979969444916, 'LGBTQ': 0.7982155113246396, 'christian': 0.9276923076923077, 'muslim': 0.8132701421800947, 'other_religions': 0.8610547667342799, 'black': 0.7554479418886199, 'white': 0.7795605162190443}\n",
            "WGA: 0.7554479418886199\n",
            "Stopping early due to no improvement in validation loss\n"
          ]
        }
      ]
    },
    {
      "cell_type": "markdown",
      "source": [
        "**3. Bidirectional LSTM**\n",
        "---"
      ],
      "metadata": {
        "id": "XSlm4lQHCIa8"
      }
    },
    {
      "cell_type": "code",
      "source": [
        "class LSTMClassifier(nn.Module):\n",
        "    def __init__(self, embedding_matrix, hidden_dim, output_dim, dropout=0.2):\n",
        "        super(LSTMClassifier, self).__init__()\n",
        "        self.embedding = nn.Embedding.from_pretrained(torch.tensor(embedding_matrix, dtype=torch.float))\n",
        "        self.lstm = nn.LSTM(embedding_matrix.shape[1], hidden_dim, num_layers=2, batch_first=True, bidirectional=True, dropout=dropout)\n",
        "        self.fc = nn.Linear(hidden_dim * 2, output_dim)  # hidden_dim * 2 because of bidirectional\n",
        "        self.sigmoid = nn.Sigmoid()\n",
        "\n",
        "    def forward(self, x):\n",
        "        x = x.long()\n",
        "        x = self.embedding(x)\n",
        "        lstm_out, (hidden, cell) = self.lstm(x)\n",
        "        last_hidden = lstm_out[:, -1, :]\n",
        "        out = self.fc(last_hidden)\n",
        "        return self.sigmoid(out)"
      ],
      "metadata": {
        "id": "ftZ36c6GEVHA"
      },
      "execution_count": null,
      "outputs": []
    },
    {
      "cell_type": "markdown",
      "source": [
        "[ Model Setting ]  \n",
        "2 LSTM Layer  \n",
        "Dropout rate: 0.2"
      ],
      "metadata": {
        "id": "N4CXBwVIY8Pi"
      }
    },
    {
      "cell_type": "code",
      "source": [
        "model = LSTMClassifier(glove_embeddings, hidden_dim=128, output_dim=1)\n",
        "model.to(device)\n",
        "model.lstm.flatten_parameters()\n",
        "\n",
        "criterion = nn.BCELoss()\n",
        "optimizer = optim.Adam(model.parameters(), lr=0.001)\n",
        "scheduler = torch.optim.lr_scheduler.LambdaLR(optimizer, lambda epoch: 0.6 ** epoch)\n",
        "num_epochs = 10"
      ],
      "metadata": {
        "id": "bUcHCyO-4wF6"
      },
      "execution_count": null,
      "outputs": []
    },
    {
      "cell_type": "code",
      "source": [
        "early_stopping_patience = 3\n",
        "best_val_loss = float('inf')\n",
        "patience_counter = 0\n",
        "\n",
        "# Training and Validation Loops with Subgroup Accuracy Calculation\n",
        "for epoch in range(num_epochs):\n",
        "    model.train()\n",
        "    total_loss = 0\n",
        "\n",
        "    # Training\n",
        "    for sequences, labels in train_loader:\n",
        "        sequences, labels = sequences.to(device), labels.to(device)\n",
        "\n",
        "        optimizer.zero_grad()\n",
        "        output = model(sequences)\n",
        "        loss = criterion(output.squeeze(), labels.float())\n",
        "        loss.backward()\n",
        "        optimizer.step()\n",
        "        total_loss += loss.item()\n",
        "\n",
        "    print(f'Epoch {epoch+1}, Training Loss: {total_loss/len(train_loader)}')\n",
        "\n",
        "    # Validation\n",
        "    model.eval()\n",
        "    with torch.no_grad():\n",
        "        total = 0\n",
        "        correct = 0\n",
        "        total_loss = 0\n",
        "        for sequences, labels in val_loader:\n",
        "            sequences, labels = sequences.to(device), labels.to(device)\n",
        "            output = model(sequences)\n",
        "            predicted = (output.squeeze() > 0.5).float()\n",
        "            total += labels.size(0)\n",
        "            correct += (predicted == labels).sum().item()\n",
        "            loss = criterion(output.squeeze(), labels.float())\n",
        "            total_loss += loss.item()\n",
        "\n",
        "    print(f'Epoch {epoch+1}, Validation Accuracy: {correct / total}, Validation Loss: {total_loss / len(val_loader)}')\n",
        "\n",
        "    # Subgroup Accuracy Calculation\n",
        "    subgroup_accuracy = {}\n",
        "    with torch.no_grad():\n",
        "        for subgroup in ['male', 'female', 'LGBTQ', 'christian', 'muslim', 'other_religions', 'black', 'white']:\n",
        "            total = 0\n",
        "            correct = 0\n",
        "            subgroup_indices = val_y[subgroup] == 1\n",
        "            subgroup_val_x = val_x[subgroup_indices]\n",
        "            subgroup_val_y = val_y['y'][subgroup_indices]\n",
        "            subgroup_dataset = TextDataset(list(subgroup_val_x['indices']), list(subgroup_val_y))\n",
        "            subgroup_loader = DataLoader(subgroup_dataset, batch_size=32, shuffle=False, collate_fn=pad_and_sort_batch)\n",
        "\n",
        "            for sequences, labels in subgroup_loader:\n",
        "                sequences, labels = sequences.to(device), labels.to(device)\n",
        "                output = model(sequences)\n",
        "                predicted = (output.squeeze() > 0.5).float()\n",
        "                total += labels.size(0)\n",
        "                correct += (predicted == labels).sum().item()\n",
        "\n",
        "            subgroup_accuracy[subgroup] = correct / total if total > 0 else 0\n",
        "\n",
        "    print(f\"Epoch {epoch+1}, Subgroup Accuracies: {subgroup_accuracy}\")\n",
        "    print(f\"WGA: {min(subgroup_accuracy.values())}\")\n",
        "\n",
        "    # Early Stopping Check\n",
        "    if (total_loss / len(val_loader)) < best_val_loss:\n",
        "        best_val_loss = (total_loss / len(val_loader))\n",
        "        patience_counter = 0\n",
        "    else:\n",
        "        patience_counter += 1\n",
        "\n",
        "    if patience_counter >= early_stopping_patience:\n",
        "        print(\"Stopping early due to no improvement in validation loss\")\n",
        "        break"
      ],
      "metadata": {
        "colab": {
          "base_uri": "https://localhost:8080/"
        },
        "id": "c0CL1aJcCQOB",
        "outputId": "43281b52-2324-493e-a998-16bc47a31a05"
      },
      "execution_count": null,
      "outputs": [
        {
          "output_type": "stream",
          "name": "stdout",
          "text": [
            "Epoch 1, Training Loss: 0.35627846893359094\n",
            "Epoch 1, Validation Accuracy: 0.8881142098273572, Validation Loss: 0.3497790492187112\n",
            "Epoch 1, Subgroup Accuracies: {'male': 0.8499475341028332, 'female': 0.8691223900865728, 'LGBTQ': 0.7542896362388469, 'christian': 0.9156043956043955, 'muslim': 0.7573459715639811, 'other_religions': 0.8356997971602435, 'black': 0.677360774818402, 'white': 0.7028252528775724}\n",
            "WGA: 0.677360774818402\n",
            "Epoch 2, Training Loss: 0.34967511865380374\n",
            "Epoch 2, Validation Accuracy: 0.888092076139885, Validation Loss: 0.30606997720265794\n",
            "Epoch 2, Subgroup Accuracies: {'male': 0.8507869884575027, 'female': 0.8696316414870141, 'LGBTQ': 0.7549759780370625, 'christian': 0.916043956043956, 'muslim': 0.7573459715639811, 'other_religions': 0.834685598377282, 'black': 0.6767554479418886, 'white': 0.7052668294384374}\n",
            "WGA: 0.6767554479418886\n",
            "Epoch 3, Training Loss: 0.2328436614557406\n",
            "Epoch 3, Validation Accuracy: 0.9181938911022577, Validation Loss: 0.20209580321012244\n",
            "Epoch 3, Subgroup Accuracies: {'male': 0.8881427072402938, 'female': 0.8944152096418265, 'LGBTQ': 0.7934111187371311, 'christian': 0.9287912087912088, 'muslim': 0.7995260663507109, 'other_religions': 0.8600405679513184, 'black': 0.725181598062954, 'white': 0.7683990233693756}\n",
            "WGA: 0.725181598062954\n",
            "Epoch 4, Training Loss: 0.1955989963108307\n",
            "Epoch 4, Validation Accuracy: 0.9221336874723329, Validation Loss: 0.18620940425701565\n",
            "Epoch 4, Subgroup Accuracies: {'male': 0.889401888772298, 'female': 0.9032422339161432, 'LGBTQ': 0.8023335621139327, 'christian': 0.9272527472527472, 'muslim': 0.8080568720379147, 'other_religions': 0.8661257606490872, 'black': 0.7536319612590799, 'white': 0.7851412626438786}\n",
            "WGA: 0.7536319612590799\n",
            "Epoch 5, Training Loss: 0.18295504051401545\n",
            "Epoch 5, Validation Accuracy: 0.9256086764054892, Validation Loss: 0.17900638723230294\n",
            "Epoch 5, Subgroup Accuracies: {'male': 0.8990556138509969, 'female': 0.9064674927856051, 'LGBTQ': 0.8078242964996568, 'christian': 0.9318681318681319, 'muslim': 0.8236966824644549, 'other_religions': 0.8701825557809331, 'black': 0.7687651331719129, 'white': 0.7970003487966516}\n",
            "WGA: 0.7687651331719129\n",
            "Epoch 6, Training Loss: 0.17321333590430604\n",
            "Epoch 6, Validation Accuracy: 0.9253209384683488, Validation Loss: 0.17929363644834462\n",
            "Epoch 6, Subgroup Accuracies: {'male': 0.8938090241343127, 'female': 0.9085044983873706, 'LGBTQ': 0.8098833218943033, 'christian': 0.9320879120879121, 'muslim': 0.8175355450236966, 'other_religions': 0.8722109533468559, 'black': 0.7742130750605327, 'white': 0.7910708057202651}\n",
            "WGA: 0.7742130750605327\n",
            "Epoch 7, Training Loss: 0.16566590471397005\n",
            "Epoch 7, Validation Accuracy: 0.9262505533421868, Validation Loss: 0.17823085487730758\n",
            "Epoch 7, Subgroup Accuracies: {'male': 0.8971668415529905, 'female': 0.9064674927856051, 'LGBTQ': 0.818805765271105, 'christian': 0.9351648351648352, 'muslim': 0.8341232227488151, 'other_religions': 0.8640973630831643, 'black': 0.7814769975786925, 'white': 0.7952563655388908}\n",
            "WGA: 0.7814769975786925\n",
            "Epoch 8, Training Loss: 0.15614776269352856\n",
            "Epoch 8, Validation Accuracy: 0.9261177512173528, Validation Loss: 0.17924722770786722\n",
            "Epoch 8, Subgroup Accuracies: {'male': 0.8927597061909759, 'female': 0.9064674927856051, 'LGBTQ': 0.8133150308853809, 'christian': 0.934945054945055, 'muslim': 0.8274881516587678, 'other_religions': 0.8711967545638946, 'black': 0.7705811138014528, 'white': 0.7903732124171607}\n",
            "WGA: 0.7705811138014528\n",
            "Epoch 9, Training Loss: 0.14561330103142617\n",
            "Epoch 9, Validation Accuracy: 0.9234395750332005, Validation Loss: 0.19053936595528645\n",
            "Epoch 9, Subgroup Accuracies: {'male': 0.8927597061909759, 'female': 0.9046002376506536, 'LGBTQ': 0.8160603980782429, 'christian': 0.9327472527472528, 'muslim': 0.8279620853080568, 'other_religions': 0.8681541582150102, 'black': 0.7736077481840193, 'white': 0.7924659923264736}\n",
            "WGA: 0.7736077481840193\n",
            "Epoch 10, Training Loss: 0.1329808095656158\n",
            "Epoch 10, Validation Accuracy: 0.9232403718459495, Validation Loss: 0.19825442100606733\n",
            "Epoch 10, Subgroup Accuracies: {'male': 0.8912906610703043, 'female': 0.9054489899847225, 'LGBTQ': 0.8140013726835964, 'christian': 0.9334065934065934, 'muslim': 0.8232227488151659, 'other_religions': 0.8681541582150102, 'black': 0.7602905569007264, 'white': 0.7865364492500871}\n",
            "WGA: 0.7602905569007264\n"
          ]
        }
      ]
    },
    {
      "cell_type": "markdown",
      "source": [
        "**4. Bidirectional GRU**\n",
        "---"
      ],
      "metadata": {
        "id": "JEUkZnFZWFXJ"
      }
    },
    {
      "cell_type": "code",
      "source": [
        "class GRUClassifier(nn.Module):\n",
        "    def __init__(self, embedding_matrix, hidden_dim, output_dim, n_layers, bidirectional, dropout):\n",
        "        super(GRUClassifier, self).__init__()\n",
        "        self.embedding = nn.Embedding.from_pretrained(torch.tensor(embedding_matrix, dtype=torch.float))\n",
        "\n",
        "        self.gru = nn.GRU(embedding_matrix.shape[1], hidden_dim, num_layers=n_layers, bidirectional=bidirectional, batch_first=True, dropout=dropout)\n",
        "        self.fc = nn.Linear(hidden_dim * 2 if bidirectional else hidden_dim, output_dim)\n",
        "        self.dropout = nn.Dropout(dropout)\n",
        "        self.sigmoid = nn.Sigmoid()\n",
        "\n",
        "    def forward(self, x):\n",
        "        x = self.embedding(x)\n",
        "        _, hidden = self.gru(x)\n",
        "\n",
        "        if self.gru.bidirectional:\n",
        "            hidden = self.dropout(torch.cat((hidden[-2,:,:], hidden[-1,:,:]), dim=1))\n",
        "        else:\n",
        "            hidden = self.dropout(hidden[-1,:,:])\n",
        "\n",
        "        x = self.fc(hidden)\n",
        "        return self.sigmoid(x)"
      ],
      "metadata": {
        "id": "9V1bNEDzWEvu"
      },
      "execution_count": 22,
      "outputs": []
    },
    {
      "cell_type": "markdown",
      "source": [
        "[ Model Setting ]  \n",
        "2 GRU Layer  \n",
        "Dropout rate: 0.2"
      ],
      "metadata": {
        "id": "-PRBZvJYZaJL"
      }
    },
    {
      "cell_type": "code",
      "source": [
        "gru_model = GRUClassifier(glove_embeddings, hidden_dim=128, output_dim=1, n_layers=2, bidirectional=True, dropout=0.2)\n",
        "gru_model.to(device)\n",
        "\n",
        "criterion = nn.BCELoss()\n",
        "optimizer = optim.Adam(gru_model.parameters(), lr=0.001)\n",
        "scheduler = torch.optim.lr_scheduler.LambdaLR(optimizer, lambda epoch: 0.9 ** epoch)\n",
        "num_epochs = 15"
      ],
      "metadata": {
        "id": "tPCahdpwYJGQ"
      },
      "execution_count": 23,
      "outputs": []
    },
    {
      "cell_type": "code",
      "source": [
        "early_stopping_patience = 3\n",
        "best_val_loss = float('inf')\n",
        "patience_counter = 0\n",
        "\n",
        "# Training and Validation Loops with Subgroup Accuracy Calculation\n",
        "for epoch in range(num_epochs):\n",
        "    gru_model.train()\n",
        "    total_loss = 0\n",
        "\n",
        "    # Training\n",
        "    for sequences, labels in train_loader:\n",
        "        sequences, labels = sequences.to(device), labels.to(device)\n",
        "\n",
        "        optimizer.zero_grad()\n",
        "        output = gru_model(sequences)\n",
        "        loss = criterion(output.squeeze(), labels.float())\n",
        "        loss.backward()\n",
        "        optimizer.step()\n",
        "        total_loss += loss.item()\n",
        "\n",
        "    print(f'Epoch {epoch+1}, Training Loss: {total_loss/len(train_loader)}')\n",
        "\n",
        "    # Validation\n",
        "    gru_model.eval()\n",
        "    with torch.no_grad():\n",
        "        total = 0\n",
        "        correct = 0\n",
        "        total_loss = 0\n",
        "        for sequences, labels in val_loader:\n",
        "            sequences, labels = sequences.to(device), labels.to(device)\n",
        "            output = gru_model(sequences)\n",
        "            predicted = (output.squeeze() > 0.5).float()\n",
        "            total += labels.size(0)\n",
        "            correct += (predicted == labels).sum().item()\n",
        "            loss = criterion(output.squeeze(), labels.float())\n",
        "            total_loss += loss.item()\n",
        "\n",
        "    print(f'Epoch {epoch+1}, Validation Accuracy: {correct / total}, Validation Loss: {total_loss / len(val_loader)}')\n",
        "\n",
        "    # Subgroup Accuracy Calculation\n",
        "    subgroup_accuracy = {}\n",
        "    with torch.no_grad():\n",
        "        for subgroup in ['male', 'female', 'LGBTQ', 'christian', 'muslim', 'other_religions', 'black', 'white']:\n",
        "            total = 0\n",
        "            correct = 0\n",
        "            subgroup_indices = val_y[subgroup] == 1\n",
        "            subgroup_val_x = val_x[subgroup_indices]\n",
        "            subgroup_val_y = val_y['y'][subgroup_indices]\n",
        "            subgroup_dataset = TextDataset(list(subgroup_val_x['indices']), list(subgroup_val_y))\n",
        "            subgroup_loader = DataLoader(subgroup_dataset, batch_size=32, shuffle=False, collate_fn=pad_and_sort_batch)\n",
        "\n",
        "            for sequences, labels in subgroup_loader:\n",
        "                sequences, labels = sequences.to(device), labels.to(device)\n",
        "                output = gru_model(sequences)\n",
        "                predicted = (output.squeeze() > 0.5).float()\n",
        "                total += labels.size(0)\n",
        "                correct += (predicted == labels).sum().item()\n",
        "\n",
        "            subgroup_accuracy[subgroup] = correct / total if total > 0 else 0\n",
        "\n",
        "    print(f\"Epoch {epoch+1}, Subgroup Accuracies: {subgroup_accuracy}\")\n",
        "    print(f\"WGA: {min(subgroup_accuracy.values())}\")\n",
        "\n",
        "    # Early Stopping Check\n",
        "    if (total_loss / len(val_loader)) < best_val_loss:\n",
        "        best_val_loss = (total_loss / len(val_loader))\n",
        "        patience_counter = 0\n",
        "    else:\n",
        "        patience_counter += 1\n",
        "\n",
        "    if patience_counter >= early_stopping_patience:\n",
        "        print(\"Stopping early due to no improvement in validation loss\")\n",
        "        break"
      ],
      "metadata": {
        "colab": {
          "base_uri": "https://localhost:8080/"
        },
        "id": "3flKixXAYJI4",
        "outputId": "06e61283-0e01-4637-bc90-d523828d3aff"
      },
      "execution_count": 24,
      "outputs": [
        {
          "output_type": "stream",
          "name": "stdout",
          "text": [
            "Epoch 1, Training Loss: 0.21364482412811237\n",
            "Epoch 1, Validation Accuracy: 0.9210270030987162, Validation Loss: 0.19077822902781816\n",
            "Epoch 1, Subgroup Accuracies: {'male': 0.8938090241343127, 'female': 0.8964522152435919, 'LGBTQ': 0.7940974605353466, 'christian': 0.9276923076923077, 'muslim': 0.8170616113744076, 'other_religions': 0.8620689655172413, 'black': 0.7627118644067796, 'white': 0.7865364492500871}\n",
            "WGA: 0.7627118644067796\n",
            "Epoch 2, Training Loss: 0.183346517873196\n",
            "Epoch 2, Validation Accuracy: 0.9262505533421868, Validation Loss: 0.17760294462201623\n",
            "Epoch 2, Subgroup Accuracies: {'male': 0.899685204616999, 'female': 0.9071464946528603, 'LGBTQ': 0.8085106382978723, 'christian': 0.9336263736263736, 'muslim': 0.8303317535545024, 'other_religions': 0.8691683569979716, 'black': 0.7681598062953995, 'white': 0.7976979420997559}\n",
            "WGA: 0.7681598062953995\n",
            "Epoch 3, Training Loss: 0.17422510232673613\n",
            "Epoch 3, Validation Accuracy: 0.9264940239043825, Validation Loss: 0.17628441677339332\n",
            "Epoch 3, Subgroup Accuracies: {'male': 0.8973767051416579, 'female': 0.9071464946528603, 'LGBTQ': 0.8153740562800275, 'christian': 0.9331868131868132, 'muslim': 0.8279620853080568, 'other_religions': 0.8691683569979716, 'black': 0.7693704600484261, 'white': 0.800488315312173}\n",
            "WGA: 0.7693704600484261\n",
            "Epoch 4, Training Loss: 0.16502880240541543\n",
            "Epoch 4, Validation Accuracy: 0.9253430721558211, Validation Loss: 0.17663087218073803\n",
            "Epoch 4, Subgroup Accuracies: {'male': 0.89800629590766, 'female': 0.9029027329825157, 'LGBTQ': 0.8064516129032258, 'christian': 0.9323076923076923, 'muslim': 0.8322274881516588, 'other_religions': 0.8681541582150102, 'black': 0.7772397094430993, 'white': 0.793163585629578}\n",
            "WGA: 0.7772397094430993\n",
            "Epoch 5, Training Loss: 0.15285105229870236\n",
            "Epoch 5, Validation Accuracy: 0.9246569278441789, Validation Loss: 0.18336440449170135\n",
            "Epoch 5, Subgroup Accuracies: {'male': 0.8952780692549842, 'female': 0.9029027329825157, 'LGBTQ': 0.789293067947838, 'christian': 0.9314285714285714, 'muslim': 0.8322274881516588, 'other_religions': 0.8640973630831643, 'black': 0.7675544794188862, 'white': 0.7966515521450994}\n",
            "WGA: 0.7675544794188862\n",
            "Epoch 6, Training Loss: 0.13828160839915615\n",
            "Epoch 6, Validation Accuracy: 0.9217352810978309, Validation Loss: 0.1932897472880402\n",
            "Epoch 6, Subgroup Accuracies: {'male': 0.8954879328436516, 'female': 0.9013749787811917, 'LGBTQ': 0.7886067261496225, 'christian': 0.9292307692307692, 'muslim': 0.8255924170616113, 'other_religions': 0.8661257606490872, 'black': 0.7621065375302664, 'white': 0.7840948726892222}\n",
            "WGA: 0.7621065375302664\n",
            "Stopping early due to no improvement in validation loss\n"
          ]
        }
      ]
    },
    {
      "cell_type": "markdown",
      "source": [
        "[ Model Setting ]  \n",
        "3 GRU Layer  \n",
        "Dropout rate: 0.2"
      ],
      "metadata": {
        "id": "k1XiH6a-b27P"
      }
    },
    {
      "cell_type": "code",
      "source": [
        "gru_model = GRUClassifier(glove_embeddings, hidden_dim=128, output_dim=1, n_layers=3, bidirectional=True, dropout=0.2)\n",
        "gru_model.to(device)\n",
        "\n",
        "criterion = nn.BCELoss()\n",
        "optimizer = optim.Adam(gru_model.parameters(), lr=0.001)\n",
        "scheduler = torch.optim.lr_scheduler.LambdaLR(optimizer, lambda epoch: 0.8 ** epoch)\n",
        "num_epochs = 15"
      ],
      "metadata": {
        "id": "WlM9VFEpb27a"
      },
      "execution_count": null,
      "outputs": []
    },
    {
      "cell_type": "code",
      "source": [
        "early_stopping_patience = 3\n",
        "best_val_loss = float('inf')\n",
        "patience_counter = 0\n",
        "\n",
        "# Training and Validation Loops with Subgroup Accuracy Calculation\n",
        "for epoch in range(num_epochs):\n",
        "    gru_model.train()\n",
        "    total_loss = 0\n",
        "\n",
        "    # Training\n",
        "    for sequences, labels in train_loader:\n",
        "        sequences, labels = sequences.to(device), labels.to(device)\n",
        "\n",
        "        optimizer.zero_grad()\n",
        "        output = gru_model(sequences)\n",
        "        loss = criterion(output.squeeze(), labels.float())\n",
        "        loss.backward()\n",
        "        optimizer.step()\n",
        "        total_loss += loss.item()\n",
        "\n",
        "    print(f'Epoch {epoch+1}, Training Loss: {total_loss/len(train_loader)}')\n",
        "\n",
        "    # Validation\n",
        "    gru_model.eval()\n",
        "    with torch.no_grad():\n",
        "        total = 0\n",
        "        correct = 0\n",
        "        total_loss = 0\n",
        "        for sequences, labels in val_loader:\n",
        "            sequences, labels = sequences.to(device), labels.to(device)\n",
        "            output = gru_model(sequences)\n",
        "            predicted = (output.squeeze() > 0.5).float()\n",
        "            total += labels.size(0)\n",
        "            correct += (predicted == labels).sum().item()\n",
        "            loss = criterion(output.squeeze(), labels.float())\n",
        "            total_loss += loss.item()\n",
        "\n",
        "    print(f'Epoch {epoch+1}, Validation Accuracy: {correct / total}, Validation Loss: {total_loss / len(val_loader)}')\n",
        "\n",
        "    # Subgroup Accuracy Calculation\n",
        "    subgroup_accuracy = {}\n",
        "    with torch.no_grad():\n",
        "        for subgroup in ['male', 'female', 'LGBTQ', 'christian', 'muslim', 'other_religions', 'black', 'white']:\n",
        "            total = 0\n",
        "            correct = 0\n",
        "            subgroup_indices = val_y[subgroup] == 1\n",
        "            subgroup_val_x = val_x[subgroup_indices]\n",
        "            subgroup_val_y = val_y['y'][subgroup_indices]\n",
        "            subgroup_dataset = TextDataset(list(subgroup_val_x['indices']), list(subgroup_val_y))\n",
        "            subgroup_loader = DataLoader(subgroup_dataset, batch_size=32, shuffle=False, collate_fn=pad_and_sort_batch)\n",
        "\n",
        "            for sequences, labels in subgroup_loader:\n",
        "                sequences, labels = sequences.to(device), labels.to(device)\n",
        "                output = gru_model(sequences)\n",
        "                predicted = (output.squeeze() > 0.5).float()\n",
        "                total += labels.size(0)\n",
        "                correct += (predicted == labels).sum().item()\n",
        "\n",
        "            subgroup_accuracy[subgroup] = correct / total if total > 0 else 0\n",
        "\n",
        "    print(f\"Epoch {epoch+1}, Subgroup Accuracies: {subgroup_accuracy}\")\n",
        "    print(f\"WGA: {min(subgroup_accuracy.values())}\")\n",
        "\n",
        "    # Early Stopping Check\n",
        "    if (total_loss / len(val_loader)) < best_val_loss:\n",
        "        best_val_loss = (total_loss / len(val_loader))\n",
        "        patience_counter = 0\n",
        "    else:\n",
        "        patience_counter += 1\n",
        "\n",
        "    if patience_counter >= early_stopping_patience:\n",
        "        print(\"Stopping early due to no improvement in validation loss\")\n",
        "        break"
      ],
      "metadata": {
        "colab": {
          "base_uri": "https://localhost:8080/"
        },
        "outputId": "2727b811-7f70-4513-ce37-a451c8772a98",
        "id": "fIuIz1tpb27a"
      },
      "execution_count": null,
      "outputs": [
        {
          "output_type": "stream",
          "name": "stdout",
          "text": [
            "Epoch 1, Training Loss: 0.21342698215984596\n",
            "Epoch 1, Validation Accuracy: 0.9245462594068172, Validation Loss: 0.18355987440942034\n",
            "Epoch 1, Subgroup Accuracies: {'male': 0.8946484784889822, 'female': 0.9061279918519776, 'LGBTQ': 0.8091969800960879, 'christian': 0.9325274725274725, 'muslim': 0.8208530805687204, 'other_religions': 0.8701825557809331, 'black': 0.7608958837772397, 'white': 0.7945587722357865}\n",
            "WGA: 0.7608958837772397\n",
            "Epoch 2, Training Loss: 0.1839021336354606\n",
            "Epoch 2, Validation Accuracy: 0.9248561310314298, Validation Loss: 0.18158972954724806\n",
            "Epoch 2, Subgroup Accuracies: {'male': 0.8952780692549842, 'female': 0.9061279918519776, 'LGBTQ': 0.8050789293067948, 'christian': 0.9318681318681319, 'muslim': 0.8213270142180095, 'other_religions': 0.8752535496957403, 'black': 0.7578692493946732, 'white': 0.7889780258109522}\n",
            "WGA: 0.7578692493946732\n",
            "Epoch 3, Training Loss: 0.17492913376791608\n",
            "Epoch 3, Validation Accuracy: 0.9258964143426295, Validation Loss: 0.17746416061569406\n",
            "Epoch 3, Subgroup Accuracies: {'male': 0.8929695697796433, 'female': 0.9040909862502122, 'LGBTQ': 0.8105696636925189, 'christian': 0.9316483516483517, 'muslim': 0.8298578199052132, 'other_religions': 0.8661257606490872, 'black': 0.7736077481840193, 'white': 0.7959539588419952}\n",
            "WGA: 0.7736077481840193\n",
            "Epoch 4, Training Loss: 0.16466392936108795\n",
            "Epoch 4, Validation Accuracy: 0.9169765382912793, Validation Loss: 0.19359412733570666\n",
            "Epoch 4, Subgroup Accuracies: {'male': 0.8860440713536202, 'female': 0.894075708708199, 'LGBTQ': 0.7858613589567605, 'christian': 0.9320879120879121, 'muslim': 0.8213270142180095, 'other_religions': 0.8640973630831643, 'black': 0.7391041162227603, 'white': 0.7708405999302407}\n",
            "WGA: 0.7391041162227603\n",
            "Epoch 5, Training Loss: 0.1535148731123596\n",
            "Epoch 5, Validation Accuracy: 0.9207171314741036, Validation Loss: 0.18805487267673016\n",
            "Epoch 5, Subgroup Accuracies: {'male': 0.8940188877229801, 'female': 0.8996774741130538, 'LGBTQ': 0.8105696636925189, 'christian': 0.9347252747252748, 'muslim': 0.8255924170616113, 'other_religions': 0.8580121703853956, 'black': 0.7554479418886199, 'white': 0.7809557028252528}\n",
            "WGA: 0.7554479418886199\n",
            "Epoch 6, Training Loss: 0.13711740623815757\n",
            "Epoch 6, Validation Accuracy: 0.9230633023461708, Validation Loss: 0.1893135159418492\n",
            "Epoch 6, Subgroup Accuracies: {'male': 0.8952780692549842, 'female': 0.9027329825157019, 'LGBTQ': 0.8119423472889499, 'christian': 0.9314285714285714, 'muslim': 0.8165876777251185, 'other_religions': 0.8732251521298174, 'black': 0.7657384987893463, 'white': 0.7816532961283572}\n",
            "WGA: 0.7657384987893463\n",
            "Stopping early due to no improvement in validation loss\n"
          ]
        }
      ]
    },
    {
      "cell_type": "markdown",
      "source": [
        "**5. Dynamic Architecture: BiGRU + CNN**\n",
        "---"
      ],
      "metadata": {
        "id": "3QETiYLreoyC"
      }
    },
    {
      "cell_type": "code",
      "source": [
        "class BiGRUCNNClassifier(nn.Module):\n",
        "    def __init__(self, embedding_matrix, hidden_dim, num_filters, output_dim, dropout):\n",
        "        super(BiGRUCNNClassifier, self).__init__()\n",
        "        self.embedding = nn.Embedding.from_pretrained(torch.tensor(embedding_matrix, dtype=torch.float), freeze=True)\n",
        "\n",
        "        # Bidirectional GRU\n",
        "        self.bigru = nn.GRU(embedding_matrix.shape[1], hidden_dim, num_layers=1, bidirectional=True, batch_first=True, dropout=0.1)\n",
        "\n",
        "        # CNN layer\n",
        "        self.conv = nn.Conv1d(in_channels=hidden_dim * 2, out_channels=num_filters, kernel_size=3, padding=1)  # hidden_dim * 2 because of bidirectional\n",
        "\n",
        "        # Global Max and Average Pooling\n",
        "        self.max_pool = nn.AdaptiveMaxPool1d(1)\n",
        "        self.avg_pool = nn.AdaptiveAvgPool1d(1)\n",
        "\n",
        "        # Fully connected layer\n",
        "        self.fc = nn.Linear(num_filters * 2, output_dim)\n",
        "\n",
        "        # Dropout and Sigmoid\n",
        "        self.dropout = nn.Dropout(dropout)\n",
        "        self.sigmoid = nn.Sigmoid()\n",
        "\n",
        "    def forward(self, x):\n",
        "        # Embedding layer\n",
        "        x = self.embedding(x)\n",
        "\n",
        "        # BiGRU layer\n",
        "        gru_out, _ = self.bigru(x)\n",
        "\n",
        "        # Transpose for convolution layer\n",
        "        gru_out = gru_out.transpose(1, 2)\n",
        "\n",
        "        # Convolution layer\n",
        "        conv_out = F.relu(self.conv(gru_out))\n",
        "\n",
        "        # Pooling layers\n",
        "        max_pooled = self.max_pool(conv_out).squeeze(2)\n",
        "        avg_pooled = self.avg_pool(conv_out).squeeze(2)\n",
        "\n",
        "        # Concatenate max and average pooled features\n",
        "        pooled = torch.cat((max_pooled, avg_pooled), dim=1)\n",
        "\n",
        "        # Dropout\n",
        "        pooled = self.dropout(pooled)\n",
        "\n",
        "        # Fully connected layer\n",
        "        out = self.fc(pooled)\n",
        "\n",
        "        return self.sigmoid(out)"
      ],
      "metadata": {
        "id": "isn5mzG_eyGq"
      },
      "execution_count": null,
      "outputs": []
    },
    {
      "cell_type": "markdown",
      "source": [
        "[ Model Setting ]  \n",
        "1 Bidirectional GRU Layer  \n",
        "1 Convolutional Layer  \n",
        "1 Global Max Pooling Layer  \n",
        "1 Global Average Pooling Layer  \n",
        "Dropout rate: 0.4"
      ],
      "metadata": {
        "id": "lIuBkSMUazw0"
      }
    },
    {
      "cell_type": "code",
      "source": [
        "bigru_cnn_model = BiGRUCNNClassifier(glove_embeddings, hidden_dim=128, num_filters=64, output_dim=1, dropout=0.4)\n",
        "bigru_cnn_model.to(device)\n",
        "\n",
        "criterion = nn.BCELoss()\n",
        "optimizer = optim.Adam(bigru_cnn_model.parameters(), lr=0.001)\n",
        "scheduler = torch.optim.lr_scheduler.LambdaLR(optimizer, lambda epoch: 0.8 ** epoch)\n",
        "num_epochs = 10"
      ],
      "metadata": {
        "colab": {
          "base_uri": "https://localhost:8080/"
        },
        "id": "KNByZeOee0Bq",
        "outputId": "8a7e162d-0214-4b32-e74d-a323f3c213c4"
      },
      "execution_count": null,
      "outputs": [
        {
          "output_type": "stream",
          "name": "stderr",
          "text": [
            "/usr/local/lib/python3.10/dist-packages/torch/nn/modules/rnn.py:82: UserWarning: dropout option adds dropout after all but last recurrent layer, so non-zero dropout expects num_layers greater than 1, but got dropout=0.1 and num_layers=1\n",
            "  warnings.warn(\"dropout option adds dropout after all but last \"\n"
          ]
        }
      ]
    },
    {
      "cell_type": "code",
      "source": [
        "early_stopping_patience = 3\n",
        "best_val_loss = float('inf')\n",
        "patience_counter = 0\n",
        "\n",
        "# Training and Validation Loops with Subgroup Accuracy Calculation\n",
        "for epoch in range(num_epochs):\n",
        "    bigru_cnn_model.train()\n",
        "    total_loss = 0\n",
        "\n",
        "    # Training\n",
        "    for sequences, labels in train_loader:\n",
        "        sequences, labels = sequences.to(device), labels.to(device)\n",
        "\n",
        "        optimizer.zero_grad()\n",
        "        output = bigru_cnn_model(sequences)\n",
        "        loss = criterion(output.squeeze(), labels.float())\n",
        "        loss.backward()\n",
        "        optimizer.step()\n",
        "        total_loss += loss.item()\n",
        "\n",
        "    print(f'Epoch {epoch+1}, Training Loss: {total_loss/len(train_loader)}')\n",
        "\n",
        "    # Validation\n",
        "    bigru_cnn_model.eval()\n",
        "    with torch.no_grad():\n",
        "        total = 0\n",
        "        correct = 0\n",
        "        total_loss = 0\n",
        "        for sequences, labels in val_loader:\n",
        "            sequences, labels = sequences.to(device), labels.to(device)\n",
        "            output = bigru_cnn_model(sequences)\n",
        "            predicted = (output.squeeze() > 0.5).float()\n",
        "            total += labels.size(0)\n",
        "            correct += (predicted == labels).sum().item()\n",
        "            loss = criterion(output.squeeze(), labels.float())\n",
        "            total_loss += loss.item()\n",
        "\n",
        "    print(f'Epoch {epoch+1}, Validation Accuracy: {correct / total}, Validation Loss: {total_loss / len(val_loader)}')\n",
        "\n",
        "    # Subgroup Accuracy Calculation\n",
        "    subgroup_accuracy = {}\n",
        "    with torch.no_grad():\n",
        "        for subgroup in ['male', 'female', 'LGBTQ', 'christian', 'muslim', 'other_religions', 'black', 'white']:\n",
        "            total = 0\n",
        "            correct = 0\n",
        "            subgroup_indices = val_y[subgroup] == 1\n",
        "            subgroup_val_x = val_x[subgroup_indices]\n",
        "            subgroup_val_y = val_y['y'][subgroup_indices]\n",
        "            subgroup_dataset = TextDataset(list(subgroup_val_x['indices']), list(subgroup_val_y))\n",
        "            subgroup_loader = DataLoader(subgroup_dataset, batch_size=32, shuffle=False, collate_fn=pad_and_sort_batch)\n",
        "\n",
        "            for sequences, labels in subgroup_loader:\n",
        "                sequences, labels = sequences.to(device), labels.to(device)\n",
        "                output = bigru_cnn_model(sequences)\n",
        "                predicted = (output.squeeze() > 0.5).float()\n",
        "                total += labels.size(0)\n",
        "                correct += (predicted == labels).sum().item()\n",
        "\n",
        "            subgroup_accuracy[subgroup] = correct / total if total > 0 else 0\n",
        "\n",
        "    print(f\"Epoch {epoch+1}, Subgroup Accuracies: {subgroup_accuracy}\")\n",
        "    print(f\"WGA: {min(subgroup_accuracy.values())}\")\n",
        "\n",
        "    # Early Stopping Check\n",
        "    if (total_loss / len(val_loader)) < best_val_loss:\n",
        "        best_val_loss = (total_loss / len(val_loader))\n",
        "        patience_counter = 0\n",
        "    else:\n",
        "        patience_counter += 1\n",
        "\n",
        "    if patience_counter >= early_stopping_patience:\n",
        "        print(\"Stopping early due to no improvement in validation loss\")\n",
        "        break"
      ],
      "metadata": {
        "colab": {
          "base_uri": "https://localhost:8080/"
        },
        "id": "VTXYaxHTe0IP",
        "outputId": "b5f44703-e8ee-440f-84a8-7e6ec6508341"
      },
      "execution_count": null,
      "outputs": [
        {
          "output_type": "stream",
          "name": "stdout",
          "text": [
            "Epoch 1, Training Loss: 0.2177623277343987\n",
            "Epoch 1, Validation Accuracy: 0.9223550243470562, Validation Loss: 0.1888919809759505\n",
            "Epoch 1, Subgroup Accuracies: {'male': 0.8961175236096537, 'female': 0.9029027329825157, 'LGBTQ': 0.8050789293067948, 'christian': 0.9268131868131868, 'muslim': 0.8161137440758294, 'other_religions': 0.8549695740365112, 'black': 0.7518159806295399, 'white': 0.7847924659923264}\n",
            "WGA: 0.7518159806295399\n",
            "Epoch 2, Training Loss: 0.1883630932625082\n",
            "Epoch 2, Validation Accuracy: 0.9247454625940682, Validation Loss: 0.1818864444365441\n",
            "Epoch 2, Subgroup Accuracies: {'male': 0.8938090241343127, 'female': 0.9052792395179087, 'LGBTQ': 0.8016472203157172, 'christian': 0.9320879120879121, 'muslim': 0.8222748815165877, 'other_religions': 0.8691683569979716, 'black': 0.7675544794188862, 'white': 0.7875828392047436}\n",
            "WGA: 0.7675544794188862\n",
            "Epoch 3, Training Loss: 0.1768183314678331\n",
            "Epoch 3, Validation Accuracy: 0.9265161575918548, Validation Loss: 0.18190766847823972\n",
            "Epoch 3, Subgroup Accuracies: {'male': 0.9022035676810073, 'female': 0.9103717535223221, 'LGBTQ': 0.8119423472889499, 'christian': 0.9323076923076923, 'muslim': 0.8246445497630331, 'other_religions': 0.8671399594320487, 'black': 0.7730024213075061, 'white': 0.7952563655388908}\n",
            "WGA: 0.7730024213075061\n",
            "Epoch 4, Training Loss: 0.16684393345827608\n",
            "Epoch 4, Validation Accuracy: 0.9249225320938468, Validation Loss: 0.17961741918645335\n",
            "Epoch 4, Subgroup Accuracies: {'male': 0.899685204616999, 'female': 0.9059582413851638, 'LGBTQ': 0.8091969800960879, 'christian': 0.9351648351648352, 'muslim': 0.8265402843601896, 'other_religions': 0.8630831643002028, 'black': 0.7723970944309927, 'white': 0.7924659923264736}\n",
            "WGA: 0.7723970944309927\n",
            "Epoch 5, Training Loss: 0.15361856348054054\n",
            "Epoch 5, Validation Accuracy: 0.9216024789729969, Validation Loss: 0.18781361102763205\n",
            "Epoch 5, Subgroup Accuracies: {'male': 0.8971668415529905, 'female': 0.9013749787811917, 'LGBTQ': 0.7865477007549759, 'christian': 0.9316483516483517, 'muslim': 0.8208530805687204, 'other_religions': 0.8630831643002028, 'black': 0.7681598062953995, 'white': 0.7816532961283572}\n",
            "WGA: 0.7681598062953995\n",
            "Epoch 6, Training Loss: 0.13880582776923728\n",
            "Epoch 6, Validation Accuracy: 0.9166666666666666, Validation Loss: 0.20436435316999754\n",
            "Epoch 6, Subgroup Accuracies: {'male': 0.8906610703043022, 'female': 0.8954337124427092, 'LGBTQ': 0.7817433081674674, 'christian': 0.9268131868131868, 'muslim': 0.804739336492891, 'other_religions': 0.8529411764705882, 'black': 0.7560532687651331, 'white': 0.7725845831880014}\n",
            "WGA: 0.7560532687651331\n",
            "Epoch 7, Training Loss: 0.12018898818872295\n",
            "Epoch 7, Validation Accuracy: 0.9188357680389553, Validation Loss: 0.2128232085214412\n",
            "Epoch 7, Subgroup Accuracies: {'male': 0.8944386149003148, 'female': 0.8937362077745714, 'LGBTQ': 0.7886067261496225, 'christian': 0.929010989010989, 'muslim': 0.8123222748815165, 'other_religions': 0.8701825557809331, 'black': 0.7512106537530266, 'white': 0.7774677363097314}\n",
            "WGA: 0.7512106537530266\n",
            "Stopping early due to no improvement in validation loss\n"
          ]
        }
      ]
    },
    {
      "cell_type": "markdown",
      "source": [
        "##**Model Performance**"
      ],
      "metadata": {
        "id": "5VxN83vpvZkb"
      }
    },
    {
      "cell_type": "markdown",
      "source": [
        "Model| Train WGA | Test WGA (Kaggle)\n",
        "-----|-------------------|------------------\n",
        "**1. Without Embedding**||\n",
        "Baseline | 0.709 | 0.730\n",
        "Enhanced Baseline | 0.741 | 0.765\n",
        "**2. Glove Embedding**| |\n",
        "CNN | 0.757 | 0.768\n",
        "LSTM |0.763 | 0.764\n",
        "Bidirectional LSTM | 0.781 | 0.792\n",
        "Bidirectional GRU | 0.777 | 0.792\n",
        "Dynamic: Bidirectional GRU + CNN | 0.773 | 0.769"
      ],
      "metadata": {
        "id": "sYc5hyg8slCg"
      }
    },
    {
      "cell_type": "markdown",
      "source": [
        "**Conclusion:**  \n",
        "The dynamic model combining Bidirectional GRU and CNN may not excel due to its complexity and tuning challenges. It's potentially prone to overfitting and might not effectively integrate CNN's local feature extraction with GRU's long-term dependency capture. In contrast, Bidirectional LSTM and GRU models, with their simpler yet focused architectures, achieve the highest test accuracies (0.792), demonstrating their effectiveness in processing text data in both directions for complex pattern recognition, particularly in toxicity detection."
      ],
      "metadata": {
        "id": "XreKhmfUvYhE"
      }
    },
    {
      "cell_type": "markdown",
      "source": [
        "##**Output**\n",
        "***"
      ],
      "metadata": {
        "id": "MFQKC1nH_HMk"
      }
    },
    {
      "cell_type": "markdown",
      "source": [
        "*Test Loader*\n",
        "---"
      ],
      "metadata": {
        "id": "-OFH3qBjcYkU"
      }
    },
    {
      "cell_type": "code",
      "source": [
        "# Load test data\n",
        "test_x = pd.read_csv(f'{data_dir}/test_x.csv')\n",
        "\n",
        "# Preprocess the text in test data\n",
        "test_x['string'] = test_x['string'].apply(preprocess_text)\n",
        "\n",
        "# Tokenize and convert tokens to indices (assuming you have a word_index dictionary from training data)\n",
        "test_x['tokens'] = test_x['string'].apply(word_tokenize)\n",
        "test_x['indices'] = test_x['tokens'].apply(lambda tokens: tokens_to_indices(tokens, word_index))\n",
        "\n",
        "# Create a Dataset for test data\n",
        "class TestTextDataset(Dataset):\n",
        "    def __init__(self, texts):\n",
        "        self.texts = [torch.tensor(text) for text in texts]\n",
        "\n",
        "    def __len__(self):\n",
        "        return len(self.texts)\n",
        "\n",
        "    def __getitem__(self, idx):\n",
        "        return self.texts[idx]\n",
        "\n",
        "test_dataset = TestTextDataset(list(test_x['indices']))\n",
        "\n",
        "# Create a DataLoader for test data\n",
        "test_loader = DataLoader(test_dataset, batch_size=256, shuffle=False, collate_fn=pad_and_sort_batch)"
      ],
      "metadata": {
        "id": "PFQPaRVa-Cs1"
      },
      "execution_count": null,
      "outputs": []
    },
    {
      "cell_type": "markdown",
      "source": [
        "CNN Output Function\n",
        "---"
      ],
      "metadata": {
        "id": "AE-BgNRDbipS"
      }
    },
    {
      "cell_type": "code",
      "source": [
        "cnn_model.eval()\n",
        "predictions = []\n",
        "\n",
        "with torch.no_grad():\n",
        "    for sequences, _ in test_loader:\n",
        "        sequences = sequences.to(device)\n",
        "        output = cnn_model(sequences)\n",
        "        predicted_probs = output.squeeze().cpu().numpy()\n",
        "        predicted_labels = (predicted_probs > 0.5).astype(int)\n",
        "        predictions.extend(predicted_labels)\n",
        "\n",
        "# Convert predictions to list of integers (0 or 1)\n",
        "predictions = [int(label) for label in predictions]"
      ],
      "metadata": {
        "id": "GwyjcEr_bipT"
      },
      "execution_count": null,
      "outputs": []
    },
    {
      "cell_type": "code",
      "source": [
        "# Prepare DataFrame with ID and predicted probabilities\n",
        "output_df = pd.DataFrame({'ID': test_x['index'], 'pred': predictions})\n",
        "# Output to CSV\n",
        "output_df.to_csv('CNN_predictions.csv', index=False)"
      ],
      "metadata": {
        "id": "y66Dl2-9bipT"
      },
      "execution_count": null,
      "outputs": []
    },
    {
      "cell_type": "markdown",
      "source": [
        "LSTM Output Function\n",
        "---"
      ],
      "metadata": {
        "id": "xd_wAIXDZYcl"
      }
    },
    {
      "cell_type": "code",
      "source": [
        "model.eval()\n",
        "predictions = []\n",
        "\n",
        "with torch.no_grad():\n",
        "    for sequences, _ in test_loader:\n",
        "        sequences = sequences.to(device)\n",
        "        output = model(sequences)\n",
        "        predicted_probs = output.squeeze().cpu().numpy()\n",
        "        predicted_labels = (predicted_probs > 0.5).astype(int)\n",
        "        predictions.extend(predicted_labels)\n",
        "\n",
        "# Convert predictions to list of integers (0 or 1)\n",
        "predictions = [int(label) for label in predictions]"
      ],
      "metadata": {
        "id": "i4FpWi9G-aHj"
      },
      "execution_count": null,
      "outputs": []
    },
    {
      "cell_type": "code",
      "source": [
        "# Prepare DataFrame with ID and predicted probabilities\n",
        "output_df = pd.DataFrame({'ID': test_x['index'], 'pred': predictions})\n",
        "# Output to CSV\n",
        "output_df.to_csv('LSTM_predictions.csv', index=False)"
      ],
      "metadata": {
        "id": "TvP6cavmZrMg"
      },
      "execution_count": null,
      "outputs": []
    },
    {
      "cell_type": "markdown",
      "source": [
        "GRU Output Function\n",
        "---"
      ],
      "metadata": {
        "id": "Y_vTrxVSZcm1"
      }
    },
    {
      "cell_type": "code",
      "source": [
        "gru_model.eval()\n",
        "predictions = []\n",
        "\n",
        "with torch.no_grad():\n",
        "    for sequences, _ in test_loader:\n",
        "        sequences = sequences.to(device)\n",
        "        output = gru_model(sequences)\n",
        "        predicted_probs = output.squeeze().cpu().numpy()\n",
        "        predicted_labels = (predicted_probs > 0.5).astype(int)\n",
        "        predictions.extend(predicted_labels)\n",
        "\n",
        "# Convert predictions to list of integers (0 or 1)\n",
        "predictions = [int(label) for label in predictions]"
      ],
      "metadata": {
        "id": "3KoCeWIjZcIg"
      },
      "execution_count": null,
      "outputs": []
    },
    {
      "cell_type": "code",
      "source": [
        "# Prepare DataFrame with ID and predicted probabilities\n",
        "output_df = pd.DataFrame({'ID': test_x['index'], 'pred': predictions})\n",
        "# Output to CSV\n",
        "output_df.to_csv('GRU_predictions.csv', index=False)"
      ],
      "metadata": {
        "id": "Ns0iVPnv-de5"
      },
      "execution_count": null,
      "outputs": []
    },
    {
      "cell_type": "markdown",
      "source": [
        "BiGRU + CNN Output Function\n",
        "---"
      ],
      "metadata": {
        "id": "nkptPRgcfbPp"
      }
    },
    {
      "cell_type": "code",
      "source": [
        "bigru_cnn_model.eval()\n",
        "predictions = []\n",
        "\n",
        "with torch.no_grad():\n",
        "    for sequences, _ in test_loader:\n",
        "        sequences = sequences.to(device)\n",
        "        output = bigru_cnn_model(sequences)\n",
        "        predicted_probs = output.squeeze().cpu().numpy()\n",
        "        predicted_labels = (predicted_probs > 0.5).astype(int)\n",
        "        predictions.extend(predicted_labels)\n",
        "\n",
        "# Convert predictions to list of integers (0 or 1)\n",
        "predictions = [int(label) for label in predictions]"
      ],
      "metadata": {
        "id": "fq3bjoK7aoKe"
      },
      "execution_count": null,
      "outputs": []
    },
    {
      "cell_type": "code",
      "source": [
        "# Prepare DataFrame with ID and predicted probabilities\n",
        "output_df = pd.DataFrame({'ID': test_x['index'], 'pred': predictions})\n",
        "# Output to CSV\n",
        "output_df.to_csv('Bigru_cnn_predictions.csv', index=False)"
      ],
      "metadata": {
        "id": "50ALPWhYfa5h"
      },
      "execution_count": null,
      "outputs": []
    },
    {
      "cell_type": "code",
      "source": [],
      "metadata": {
        "id": "meJ9VG0t_bGS"
      },
      "execution_count": null,
      "outputs": []
    }
  ]
}